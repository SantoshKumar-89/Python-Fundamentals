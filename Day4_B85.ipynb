{
 "cells": [
  {
   "cell_type": "code",
   "execution_count": null,
   "id": "e44a52c5",
   "metadata": {
    "collapsed": true
   },
   "outputs": [],
   "source": [
    "Introduction to list data type"
   ]
  },
  {
   "cell_type": "code",
   "execution_count": null,
   "id": "e04d6bbe",
   "metadata": {},
   "outputs": [],
   "source": [
    "Definition - A list is a collection of items in a particular order."
   ]
  },
  {
   "cell_type": "code",
   "execution_count": null,
   "id": "151cd3a2",
   "metadata": {},
   "outputs": [],
   "source": [
    "Classification - It is classified as a mutable datatype (which can be editable/modified)"
   ]
  },
  {
   "cell_type": "code",
   "execution_count": null,
   "id": "2cf732bb",
   "metadata": {},
   "outputs": [],
   "source": []
  },
  {
   "cell_type": "code",
   "execution_count": null,
   "id": "447adf5b",
   "metadata": {},
   "outputs": [],
   "source": [
    "How to define list data type []"
   ]
  },
  {
   "cell_type": "code",
   "execution_count": null,
   "id": "808827d2",
   "metadata": {},
   "outputs": [],
   "source": []
  },
  {
   "cell_type": "code",
   "execution_count": 3,
   "id": "69ec2198",
   "metadata": {},
   "outputs": [],
   "source": [
    "students = ['khadija','anitha','naveen','suresh','keerthi','david']"
   ]
  },
  {
   "cell_type": "code",
   "execution_count": 4,
   "id": "0536a7ce",
   "metadata": {},
   "outputs": [
    {
     "name": "stdout",
     "output_type": "stream",
     "text": [
      "['khadija', 'anitha', 'naveen', 'suresh', 'keerthi', 'david']\n"
     ]
    }
   ],
   "source": [
    "print(students)"
   ]
  },
  {
   "cell_type": "code",
   "execution_count": null,
   "id": "a1aba83d",
   "metadata": {},
   "outputs": [],
   "source": []
  },
  {
   "cell_type": "code",
   "execution_count": null,
   "id": "0b7ac5aa",
   "metadata": {},
   "outputs": [],
   "source": [
    "Understanding the concept of Indexing : [0,1,2,3,4,5......]"
   ]
  },
  {
   "cell_type": "code",
   "execution_count": null,
   "id": "679d46a0",
   "metadata": {},
   "outputs": [],
   "source": []
  },
  {
   "cell_type": "code",
   "execution_count": null,
   "id": "489472e3",
   "metadata": {},
   "outputs": [],
   "source": [
    "# req: I want to access lets say anitha name from th above"
   ]
  },
  {
   "cell_type": "code",
   "execution_count": 5,
   "id": "3509b4e9",
   "metadata": {},
   "outputs": [
    {
     "name": "stdout",
     "output_type": "stream",
     "text": [
      "anitha\n"
     ]
    }
   ],
   "source": [
    "print(students[1])"
   ]
  },
  {
   "cell_type": "code",
   "execution_count": null,
   "id": "e16a8082",
   "metadata": {},
   "outputs": [],
   "source": []
  },
  {
   "cell_type": "code",
   "execution_count": null,
   "id": "5f21c07a",
   "metadata": {},
   "outputs": [],
   "source": [
    "#req: I want to access lets say suresh name from th above"
   ]
  },
  {
   "cell_type": "code",
   "execution_count": 7,
   "id": "15f9591a",
   "metadata": {},
   "outputs": [
    {
     "name": "stdout",
     "output_type": "stream",
     "text": [
      "Suresh\n"
     ]
    }
   ],
   "source": [
    "print(students[3].title())"
   ]
  },
  {
   "cell_type": "code",
   "execution_count": null,
   "id": "b2a9594f",
   "metadata": {},
   "outputs": [],
   "source": []
  },
  {
   "cell_type": "code",
   "execution_count": null,
   "id": "5ec41cf7",
   "metadata": {},
   "outputs": [],
   "source": [
    "*** Indexing will be playing a important for future lecture"
   ]
  },
  {
   "cell_type": "code",
   "execution_count": null,
   "id": "69f8ee9d",
   "metadata": {},
   "outputs": [],
   "source": [
    "1. How to add new elements in the list\n",
    "2. How to modify the elements in the list\n",
    "3. How to delete the elements in the list"
   ]
  },
  {
   "cell_type": "code",
   "execution_count": null,
   "id": "405bc598",
   "metadata": {},
   "outputs": [],
   "source": []
  },
  {
   "cell_type": "code",
   "execution_count": 9,
   "id": "3723f63a",
   "metadata": {},
   "outputs": [],
   "source": [
    "# I want to add santosh name in the list"
   ]
  },
  {
   "cell_type": "code",
   "execution_count": 10,
   "id": "515757c1",
   "metadata": {},
   "outputs": [],
   "source": [
    "students.append('santosh')"
   ]
  },
  {
   "cell_type": "code",
   "execution_count": 11,
   "id": "1d161c2c",
   "metadata": {},
   "outputs": [
    {
     "name": "stdout",
     "output_type": "stream",
     "text": [
      "['khadija', 'anitha', 'naveen', 'suresh', 'keerthi', 'david', 'santosh']\n"
     ]
    }
   ],
   "source": [
    "print(students)"
   ]
  },
  {
   "cell_type": "code",
   "execution_count": null,
   "id": "51267675",
   "metadata": {},
   "outputs": [],
   "source": []
  },
  {
   "cell_type": "code",
   "execution_count": null,
   "id": "616db752",
   "metadata": {},
   "outputs": [],
   "source": [
    "# I want to add tanvir at 2nd index position"
   ]
  },
  {
   "cell_type": "code",
   "execution_count": 12,
   "id": "ba34cd7d",
   "metadata": {},
   "outputs": [],
   "source": [
    "students.insert(2,'tanvir')"
   ]
  },
  {
   "cell_type": "code",
   "execution_count": 13,
   "id": "ee4eebb6",
   "metadata": {},
   "outputs": [
    {
     "name": "stdout",
     "output_type": "stream",
     "text": [
      "['khadija', 'anitha', 'tanvir', 'naveen', 'suresh', 'keerthi', 'david', 'santosh']\n"
     ]
    }
   ],
   "source": [
    "print(students)"
   ]
  },
  {
   "cell_type": "code",
   "execution_count": null,
   "id": "2a92cfe6",
   "metadata": {},
   "outputs": [],
   "source": []
  },
  {
   "cell_type": "code",
   "execution_count": null,
   "id": "32719d1a",
   "metadata": {},
   "outputs": [],
   "source": [
    "# I want to add jothi at 4th index position"
   ]
  },
  {
   "cell_type": "code",
   "execution_count": 14,
   "id": "723afdca",
   "metadata": {},
   "outputs": [],
   "source": [
    "students.insert(4,'jothi')"
   ]
  },
  {
   "cell_type": "code",
   "execution_count": 15,
   "id": "14ce832b",
   "metadata": {},
   "outputs": [
    {
     "name": "stdout",
     "output_type": "stream",
     "text": [
      "['khadija', 'anitha', 'tanvir', 'naveen', 'jothi', 'suresh', 'keerthi', 'david', 'santosh']\n"
     ]
    }
   ],
   "source": [
    "print(students)"
   ]
  },
  {
   "cell_type": "code",
   "execution_count": null,
   "id": "a2f58508",
   "metadata": {},
   "outputs": [],
   "source": []
  },
  {
   "cell_type": "code",
   "execution_count": null,
   "id": "f8c0ee31",
   "metadata": {},
   "outputs": [],
   "source": [
    "******* INTERVIEW QUESTION"
   ]
  },
  {
   "cell_type": "code",
   "execution_count": null,
   "id": "750430a6",
   "metadata": {},
   "outputs": [],
   "source": [
    "What is the difference between append and insert method in list data type?"
   ]
  },
  {
   "cell_type": "code",
   "execution_count": null,
   "id": "c3de60fb",
   "metadata": {},
   "outputs": [],
   "source": [
    "'append' is used to add new element in the list and 'insert' modify element in the list"
   ]
  },
  {
   "cell_type": "code",
   "execution_count": null,
   "id": "893a7f2d",
   "metadata": {},
   "outputs": [],
   "source": []
  },
  {
   "cell_type": "code",
   "execution_count": 18,
   "id": "b18531ae",
   "metadata": {},
   "outputs": [],
   "source": [
    "# Req = I want to modify khadija name to rubina"
   ]
  },
  {
   "cell_type": "code",
   "execution_count": 19,
   "id": "72e32f2a",
   "metadata": {},
   "outputs": [
    {
     "ename": "AttributeError",
     "evalue": "'str' object has no attribute 'rubina'",
     "output_type": "error",
     "traceback": [
      "\u001b[1;31m---------------------------------------------------------------------------\u001b[0m",
      "\u001b[1;31mAttributeError\u001b[0m                            Traceback (most recent call last)",
      "Cell \u001b[1;32mIn[19], line 1\u001b[0m\n\u001b[1;32m----> 1\u001b[0m students[\u001b[38;5;241m0\u001b[39m]\u001b[38;5;241m.\u001b[39mrubina\n",
      "\u001b[1;31mAttributeError\u001b[0m: 'str' object has no attribute 'rubina'"
     ]
    }
   ],
   "source": [
    "students[0].rubina"
   ]
  },
  {
   "cell_type": "code",
   "execution_count": 20,
   "id": "62d3206c",
   "metadata": {},
   "outputs": [],
   "source": [
    "students[0] = 'rubina'"
   ]
  },
  {
   "cell_type": "code",
   "execution_count": 21,
   "id": "ec18a9d2",
   "metadata": {},
   "outputs": [
    {
     "name": "stdout",
     "output_type": "stream",
     "text": [
      "['rubina', 'anitha', 'tanvir', 'naveen', 'jothi', 'suresh', 'keerthi', 'david', 'santosh']\n"
     ]
    }
   ],
   "source": [
    "print(students)"
   ]
  },
  {
   "cell_type": "code",
   "execution_count": null,
   "id": "ad69a628",
   "metadata": {},
   "outputs": [],
   "source": []
  },
  {
   "cell_type": "code",
   "execution_count": 22,
   "id": "67b60ce3",
   "metadata": {},
   "outputs": [],
   "source": [
    "# req = I want to modify suresh name to madhu"
   ]
  },
  {
   "cell_type": "code",
   "execution_count": 23,
   "id": "fa52b4e2",
   "metadata": {},
   "outputs": [],
   "source": [
    "students[5] ='madhu'"
   ]
  },
  {
   "cell_type": "code",
   "execution_count": 24,
   "id": "b11167df",
   "metadata": {},
   "outputs": [
    {
     "name": "stdout",
     "output_type": "stream",
     "text": [
      "['rubina', 'anitha', 'tanvir', 'naveen', 'jothi', 'madhu', 'keerthi', 'david', 'santosh']\n"
     ]
    }
   ],
   "source": [
    "print(students)"
   ]
  },
  {
   "cell_type": "code",
   "execution_count": null,
   "id": "30732177",
   "metadata": {},
   "outputs": [],
   "source": []
  },
  {
   "cell_type": "code",
   "execution_count": 25,
   "id": "3636861c",
   "metadata": {},
   "outputs": [],
   "source": [
    "#req = i want to delete anitha from the above list"
   ]
  },
  {
   "cell_type": "code",
   "execution_count": 26,
   "id": "aa336c66",
   "metadata": {},
   "outputs": [],
   "source": [
    "del students[1]"
   ]
  },
  {
   "cell_type": "code",
   "execution_count": 27,
   "id": "e8876d06",
   "metadata": {},
   "outputs": [
    {
     "name": "stdout",
     "output_type": "stream",
     "text": [
      "['rubina', 'tanvir', 'naveen', 'jothi', 'madhu', 'keerthi', 'david', 'santosh']\n"
     ]
    }
   ],
   "source": [
    "print(students)"
   ]
  },
  {
   "cell_type": "code",
   "execution_count": null,
   "id": "509f5639",
   "metadata": {},
   "outputs": [],
   "source": []
  },
  {
   "cell_type": "code",
   "execution_count": null,
   "id": "e949a22d",
   "metadata": {},
   "outputs": [],
   "source": [
    "#req = i want to delete  santosh rom the above list"
   ]
  },
  {
   "cell_type": "code",
   "execution_count": 28,
   "id": "c96418e5",
   "metadata": {},
   "outputs": [],
   "source": [
    "del students[7]"
   ]
  },
  {
   "cell_type": "code",
   "execution_count": 29,
   "id": "1d88d6a2",
   "metadata": {},
   "outputs": [
    {
     "name": "stdout",
     "output_type": "stream",
     "text": [
      "['rubina', 'tanvir', 'naveen', 'jothi', 'madhu', 'keerthi', 'david']\n"
     ]
    }
   ],
   "source": [
    "print(students)"
   ]
  },
  {
   "cell_type": "code",
   "execution_count": null,
   "id": "10e95351",
   "metadata": {},
   "outputs": [],
   "source": []
  },
  {
   "cell_type": "code",
   "execution_count": null,
   "id": "4f3260f0",
   "metadata": {},
   "outputs": [],
   "source": [
    "#req = i want to delete keerthi rom the above list"
   ]
  },
  {
   "cell_type": "code",
   "execution_count": 30,
   "id": "351f2a28",
   "metadata": {},
   "outputs": [],
   "source": [
    "del students[5]"
   ]
  },
  {
   "cell_type": "code",
   "execution_count": 31,
   "id": "8d80bec6",
   "metadata": {},
   "outputs": [
    {
     "name": "stdout",
     "output_type": "stream",
     "text": [
      "['rubina', 'tanvir', 'naveen', 'jothi', 'madhu', 'david']\n"
     ]
    }
   ],
   "source": [
    "print(students)"
   ]
  },
  {
   "cell_type": "code",
   "execution_count": null,
   "id": "fd8ac2dc",
   "metadata": {},
   "outputs": [],
   "source": []
  }
 ],
 "metadata": {
  "kernelspec": {
   "display_name": "Python 3 (ipykernel)",
   "language": "python",
   "name": "python3"
  },
  "language_info": {
   "codemirror_mode": {
    "name": "ipython",
    "version": 3
   },
   "file_extension": ".py",
   "mimetype": "text/x-python",
   "name": "python",
   "nbconvert_exporter": "python",
   "pygments_lexer": "ipython3",
   "version": "3.11.5"
  }
 },
 "nbformat": 4,
 "nbformat_minor": 5
}
