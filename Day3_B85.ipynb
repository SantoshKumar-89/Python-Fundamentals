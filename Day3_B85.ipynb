{
 "cells": [
  {
   "cell_type": "code",
   "execution_count": 1,
   "id": "8e50712f",
   "metadata": {},
   "outputs": [],
   "source": [
    "fullname = 'santosh kumar'"
   ]
  },
  {
   "cell_type": "code",
   "execution_count": 2,
   "id": "ea186ec3",
   "metadata": {},
   "outputs": [
    {
     "name": "stdout",
     "output_type": "stream",
     "text": [
      "santosh kumar\n"
     ]
    }
   ],
   "source": [
    "print(fullname)"
   ]
  },
  {
   "cell_type": "code",
   "execution_count": 3,
   "id": "7863e740",
   "metadata": {},
   "outputs": [
    {
     "name": "stdout",
     "output_type": "stream",
     "text": [
      "Santosh Kumar\n"
     ]
    }
   ],
   "source": [
    "print(fullname.title())"
   ]
  },
  {
   "cell_type": "code",
   "execution_count": 4,
   "id": "5b5d188c",
   "metadata": {},
   "outputs": [
    {
     "name": "stdout",
     "output_type": "stream",
     "text": [
      "SANTOSH KUMAR\n"
     ]
    }
   ],
   "source": [
    "print(fullname.upper())"
   ]
  },
  {
   "cell_type": "code",
   "execution_count": 5,
   "id": "4e4a7c4a",
   "metadata": {},
   "outputs": [
    {
     "name": "stdout",
     "output_type": "stream",
     "text": [
      "santosh kumar\n"
     ]
    }
   ],
   "source": [
    "print(fullname.lower())"
   ]
  },
  {
   "cell_type": "code",
   "execution_count": null,
   "id": "ea9f6657",
   "metadata": {},
   "outputs": [],
   "source": []
  },
  {
   "cell_type": "code",
   "execution_count": null,
   "id": "f067f2ae",
   "metadata": {},
   "outputs": [],
   "source": [
    "Introduction to F string (Very imp**)(interview question)"
   ]
  },
  {
   "cell_type": "code",
   "execution_count": 6,
   "id": "6301bb46",
   "metadata": {},
   "outputs": [],
   "source": [
    "# general syntax of F string:"
   ]
  },
  {
   "cell_type": "code",
   "execution_count": null,
   "id": "c6c77e7a",
   "metadata": {},
   "outputs": [],
   "source": [
    "F \"custom message {placeholder1} {placeholder2}......{placeholdern}\"\""
   ]
  },
  {
   "cell_type": "code",
   "execution_count": 7,
   "id": "ecb368d1",
   "metadata": {},
   "outputs": [],
   "source": [
    "firstname= 'SANTOSH'"
   ]
  },
  {
   "cell_type": "code",
   "execution_count": null,
   "id": "18383e6b",
   "metadata": {},
   "outputs": [],
   "source": [
    "lastname= 'KUMAR'"
   ]
  },
  {
   "cell_type": "code",
   "execution_count": null,
   "id": "6d2f326d",
   "metadata": {},
   "outputs": [],
   "source": [
    "# REQURED: I WANT THE FULL NAME....?"
   ]
  },
  {
   "cell_type": "code",
   "execution_count": null,
   "id": "49de865b",
   "metadata": {},
   "outputs": [],
   "source": [
    "firstname='SANTOSH'"
   ]
  },
  {
   "cell_type": "code",
   "execution_count": null,
   "id": "c803a627",
   "metadata": {},
   "outputs": [],
   "source": [
    "lastname='KUMAR'"
   ]
  },
  {
   "cell_type": "code",
   "execution_count": 11,
   "id": "1c5a8a65",
   "metadata": {},
   "outputs": [
    {
     "ename": "NameError",
     "evalue": "name 'lastname' is not defined",
     "output_type": "error",
     "traceback": [
      "\u001b[1;31m---------------------------------------------------------------------------\u001b[0m",
      "\u001b[1;31mNameError\u001b[0m                                 Traceback (most recent call last)",
      "Cell \u001b[1;32mIn[11], line 1\u001b[0m\n\u001b[1;32m----> 1\u001b[0m fullname\u001b[38;5;241m=\u001b[39m\u001b[38;5;124mf\u001b[39m\u001b[38;5;124m\"\u001b[39m\u001b[38;5;132;01m{\u001b[39;00mfirstname\u001b[38;5;132;01m}\u001b[39;00m\u001b[38;5;132;01m{\u001b[39;00mlastname\u001b[38;5;132;01m}\u001b[39;00m\u001b[38;5;124m\"\u001b[39m\n\u001b[0;32m      2\u001b[0m \u001b[38;5;28mprint\u001b[39m(fullname)\n",
      "\u001b[1;31mNameError\u001b[0m: name 'lastname' is not defined"
     ]
    }
   ],
   "source": [
    "fullname=f\"{firstname}{lastname}\"\n",
    "print(fullname)"
   ]
  },
  {
   "cell_type": "code",
   "execution_count": 37,
   "id": "082e1797",
   "metadata": {},
   "outputs": [],
   "source": [
    "firstname='SANTOSH'\n",
    "lastname='KUMAR'\n",
    "fullname=f\"{firstname} {lastname}\""
   ]
  },
  {
   "cell_type": "code",
   "execution_count": null,
   "id": "323a4526",
   "metadata": {},
   "outputs": [],
   "source": [
    "firstname='SANTOSH'"
   ]
  },
  {
   "cell_type": "code",
   "execution_count": null,
   "id": "048f1214",
   "metadata": {},
   "outputs": [],
   "source": [
    "lastname='KUMAR'"
   ]
  },
  {
   "cell_type": "code",
   "execution_count": null,
   "id": "b0bbc435",
   "metadata": {},
   "outputs": [],
   "source": [
    "fullname=f\"{firstname}{lastname}\""
   ]
  },
  {
   "cell_type": "code",
   "execution_count": 38,
   "id": "d10ee9de",
   "metadata": {},
   "outputs": [
    {
     "name": "stdout",
     "output_type": "stream",
     "text": [
      "SANTOSH KUMAR\n"
     ]
    }
   ],
   "source": [
    "print(fullname)"
   ]
  },
  {
   "cell_type": "code",
   "execution_count": 16,
   "id": "8a40ab92",
   "metadata": {},
   "outputs": [
    {
     "name": "stdout",
     "output_type": "stream",
     "text": [
      "keep up the good work,santoshkumar\n"
     ]
    }
   ],
   "source": [
    "message=f\"keep up the good work,{fullname.lower()}\"\n",
    "print(message)"
   ]
  },
  {
   "cell_type": "code",
   "execution_count": 17,
   "id": "fa627e66",
   "metadata": {},
   "outputs": [
    {
     "name": "stdout",
     "output_type": "stream",
     "text": [
      "keep up the good work,SANTOSHKUMAR\n"
     ]
    }
   ],
   "source": [
    "message=f\"keep up the good work,{fullname.upper()}\"\n",
    "print(message)"
   ]
  },
  {
   "cell_type": "code",
   "execution_count": null,
   "id": "0439f5ae",
   "metadata": {},
   "outputs": [],
   "source": []
  },
  {
   "cell_type": "code",
   "execution_count": null,
   "id": "66484713",
   "metadata": {},
   "outputs": [],
   "source": [
    "# ADDING WHITESPACES TO STRING"
   ]
  },
  {
   "cell_type": "code",
   "execution_count": null,
   "id": "fe57dba5",
   "metadata": {},
   "outputs": [],
   "source": []
  },
  {
   "cell_type": "code",
   "execution_count": 19,
   "id": "4ac57bde",
   "metadata": {},
   "outputs": [
    {
     "name": "stdout",
     "output_type": "stream",
     "text": [
      "fav_language:pythonjavac++swiftscala\n"
     ]
    }
   ],
   "source": [
    "print(\"fav_language:pythonjavac++swiftscala\")"
   ]
  },
  {
   "cell_type": "code",
   "execution_count": null,
   "id": "fea17363",
   "metadata": {},
   "outputs": [],
   "source": []
  },
  {
   "cell_type": "code",
   "execution_count": null,
   "id": "0fee70ca",
   "metadata": {},
   "outputs": [],
   "source": [
    "# \\n ===> NEW LINE DELIMITER"
   ]
  },
  {
   "cell_type": "code",
   "execution_count": 20,
   "id": "20d9f70a",
   "metadata": {},
   "outputs": [
    {
     "name": "stdout",
     "output_type": "stream",
     "text": [
      "fav_language:\n",
      "python\n",
      "java\n",
      "c++\n",
      "swift\n",
      "scala\n"
     ]
    }
   ],
   "source": [
    "print(\"fav_language:\\npython\\njava\\nc++\\nswift\\nscala\")"
   ]
  },
  {
   "cell_type": "code",
   "execution_count": null,
   "id": "d1bafc04",
   "metadata": {},
   "outputs": [],
   "source": [
    "# \\n ===> TAB DELIMITER"
   ]
  },
  {
   "cell_type": "code",
   "execution_count": 21,
   "id": "a2b0a9f2",
   "metadata": {},
   "outputs": [
    {
     "name": "stdout",
     "output_type": "stream",
     "text": [
      "fav_language:\n",
      "\tpython\n",
      "\tjava\n",
      "\tc++\n",
      "\tswift\n",
      "\tscala\n"
     ]
    }
   ],
   "source": [
    "print(\"fav_language:\\n\\tpython\\n\\tjava\\n\\tc++\\n\\tswift\\n\\tscala\")"
   ]
  },
  {
   "cell_type": "code",
   "execution_count": null,
   "id": "a91bf84d",
   "metadata": {},
   "outputs": [],
   "source": []
  },
  {
   "cell_type": "code",
   "execution_count": null,
   "id": "d3bc95d1",
   "metadata": {},
   "outputs": [],
   "source": [
    "# REMOVING WHITESPACES FROM STRING:"
   ]
  },
  {
   "cell_type": "code",
   "execution_count": 22,
   "id": "7b6692c4",
   "metadata": {},
   "outputs": [],
   "source": [
    "name=\"python\""
   ]
  },
  {
   "cell_type": "code",
   "execution_count": 23,
   "id": "e004dd9b",
   "metadata": {},
   "outputs": [
    {
     "name": "stdout",
     "output_type": "stream",
     "text": [
      "python\n"
     ]
    }
   ],
   "source": [
    "print(name)"
   ]
  },
  {
   "cell_type": "code",
   "execution_count": null,
   "id": "55cdeca8",
   "metadata": {},
   "outputs": [],
   "source": [
    "name=\"           python\""
   ]
  },
  {
   "cell_type": "code",
   "execution_count": 25,
   "id": "e599d99b",
   "metadata": {},
   "outputs": [
    {
     "name": "stdout",
     "output_type": "stream",
     "text": [
      "python\n"
     ]
    }
   ],
   "source": [
    "print(name)"
   ]
  },
  {
   "cell_type": "code",
   "execution_count": null,
   "id": "0756034f",
   "metadata": {},
   "outputs": [],
   "source": [
    "name=\"                    python\""
   ]
  },
  {
   "cell_type": "code",
   "execution_count": 27,
   "id": "b5f4b57f",
   "metadata": {},
   "outputs": [
    {
     "name": "stdout",
     "output_type": "stream",
     "text": [
      "python\n"
     ]
    }
   ],
   "source": [
    "print(name)"
   ]
  },
  {
   "cell_type": "code",
   "execution_count": null,
   "id": "a5f64616",
   "metadata": {},
   "outputs": [],
   "source": [
    "name=\"python            \""
   ]
  },
  {
   "cell_type": "code",
   "execution_count": 28,
   "id": "5e8cf31a",
   "metadata": {},
   "outputs": [
    {
     "name": "stdout",
     "output_type": "stream",
     "text": [
      "python\n"
     ]
    }
   ],
   "source": [
    "print(name)"
   ]
  },
  {
   "cell_type": "code",
   "execution_count": 30,
   "id": "1289cc76",
   "metadata": {},
   "outputs": [],
   "source": [
    "name= \"                    python\""
   ]
  },
  {
   "cell_type": "code",
   "execution_count": 31,
   "id": "26100829",
   "metadata": {},
   "outputs": [
    {
     "name": "stdout",
     "output_type": "stream",
     "text": [
      "                    python\n"
     ]
    }
   ],
   "source": [
    "print(name)"
   ]
  },
  {
   "cell_type": "code",
   "execution_count": 33,
   "id": "2899c4ea",
   "metadata": {},
   "outputs": [
    {
     "name": "stdout",
     "output_type": "stream",
     "text": [
      "        python             \n"
     ]
    }
   ],
   "source": [
    "name= \"        python             \"\n",
    "print(name)"
   ]
  },
  {
   "cell_type": "code",
   "execution_count": 34,
   "id": "d6d49b4f",
   "metadata": {},
   "outputs": [
    {
     "name": "stdout",
     "output_type": "stream",
     "text": [
      "        python\n"
     ]
    }
   ],
   "source": [
    "print(name.rstrip())"
   ]
  },
  {
   "cell_type": "code",
   "execution_count": 35,
   "id": "99a92912",
   "metadata": {},
   "outputs": [
    {
     "name": "stdout",
     "output_type": "stream",
     "text": [
      "python             \n"
     ]
    }
   ],
   "source": [
    "print(name.lstrip())"
   ]
  },
  {
   "cell_type": "code",
   "execution_count": null,
   "id": "a882f64c",
   "metadata": {},
   "outputs": [],
   "source": []
  }
 ],
 "metadata": {
  "kernelspec": {
   "display_name": "Python 3 (ipykernel)",
   "language": "python",
   "name": "python3"
  },
  "language_info": {
   "codemirror_mode": {
    "name": "ipython",
    "version": 3
   },
   "file_extension": ".py",
   "mimetype": "text/x-python",
   "name": "python",
   "nbconvert_exporter": "python",
   "pygments_lexer": "ipython3",
   "version": "3.11.5"
  }
 },
 "nbformat": 4,
 "nbformat_minor": 5
}
