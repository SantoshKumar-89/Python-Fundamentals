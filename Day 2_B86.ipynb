{
 "cells": [
  {
   "cell_type": "code",
   "execution_count": null,
   "id": "6b0316c1",
   "metadata": {},
   "outputs": [],
   "source": [
    "Introduction to python programming"
   ]
  },
  {
   "cell_type": "code",
   "execution_count": null,
   "id": "a9b36ebd",
   "metadata": {},
   "outputs": [],
   "source": [
    "Understanding the variables in python"
   ]
  },
  {
   "cell_type": "code",
   "execution_count": 7,
   "id": "4d7f5f19",
   "metadata": {},
   "outputs": [],
   "source": [
    "x=2\n",
    "y=3"
   ]
  },
  {
   "cell_type": "code",
   "execution_count": 8,
   "id": "11bd38f7",
   "metadata": {},
   "outputs": [],
   "source": [
    "z=x+y"
   ]
  },
  {
   "cell_type": "code",
   "execution_count": 9,
   "id": "bdb705bf",
   "metadata": {},
   "outputs": [
    {
     "name": "stdout",
     "output_type": "stream",
     "text": [
      "5\n"
     ]
    }
   ],
   "source": [
    "print(z)"
   ]
  },
  {
   "cell_type": "code",
   "execution_count": null,
   "id": "f55496c8",
   "metadata": {},
   "outputs": [],
   "source": []
  },
  {
   "cell_type": "code",
   "execution_count": null,
   "id": "9bb1ad13",
   "metadata": {},
   "outputs": [],
   "source": [
    "Rules for declaring the variables in python"
   ]
  },
  {
   "cell_type": "code",
   "execution_count": null,
   "id": "30c4230d",
   "metadata": {},
   "outputs": [],
   "source": [
    "Rule no. 1- no name spaces while declaring the variable name"
   ]
  },
  {
   "cell_type": "code",
   "execution_count": 10,
   "id": "59fc5da9",
   "metadata": {},
   "outputs": [
    {
     "ename": "SyntaxError",
     "evalue": "invalid syntax (1687658871.py, line 1)",
     "output_type": "error",
     "traceback": [
      "\u001b[1;36m  Cell \u001b[1;32mIn[10], line 1\u001b[1;36m\u001b[0m\n\u001b[1;33m    first name = \"Faiyaz\"\u001b[0m\n\u001b[1;37m          ^\u001b[0m\n\u001b[1;31mSyntaxError\u001b[0m\u001b[1;31m:\u001b[0m invalid syntax\n"
     ]
    }
   ],
   "source": [
    "first name = \"Faiyaz\""
   ]
  },
  {
   "cell_type": "code",
   "execution_count": 11,
   "id": "97afd1c9",
   "metadata": {},
   "outputs": [],
   "source": [
    "firstname = \"Faiyaz\""
   ]
  },
  {
   "cell_type": "code",
   "execution_count": 12,
   "id": "9a4e9216",
   "metadata": {},
   "outputs": [
    {
     "name": "stdout",
     "output_type": "stream",
     "text": [
      "Faiyaz\n"
     ]
    }
   ],
   "source": [
    "print(firstname)"
   ]
  },
  {
   "cell_type": "code",
   "execution_count": null,
   "id": "3c5596a9",
   "metadata": {},
   "outputs": [],
   "source": []
  },
  {
   "cell_type": "code",
   "execution_count": null,
   "id": "9bace348",
   "metadata": {},
   "outputs": [],
   "source": [
    "Rule no. 2 - A variable name should not start with a number*************"
   ]
  },
  {
   "cell_type": "code",
   "execution_count": 13,
   "id": "16ac64e4",
   "metadata": {},
   "outputs": [
    {
     "ename": "SyntaxError",
     "evalue": "invalid decimal literal (4112102871.py, line 1)",
     "output_type": "error",
     "traceback": [
      "\u001b[1;36m  Cell \u001b[1;32mIn[13], line 1\u001b[1;36m\u001b[0m\n\u001b[1;33m    1name = \"Sandeep\"\u001b[0m\n\u001b[1;37m    ^\u001b[0m\n\u001b[1;31mSyntaxError\u001b[0m\u001b[1;31m:\u001b[0m invalid decimal literal\n"
     ]
    }
   ],
   "source": [
    "1name = \"Sandeep\""
   ]
  },
  {
   "cell_type": "code",
   "execution_count": 14,
   "id": "2874c7f2",
   "metadata": {},
   "outputs": [],
   "source": [
    "name1 = \"Sandeep\""
   ]
  },
  {
   "cell_type": "code",
   "execution_count": 15,
   "id": "ab34d770",
   "metadata": {},
   "outputs": [
    {
     "name": "stdout",
     "output_type": "stream",
     "text": [
      "Sandeep\n"
     ]
    }
   ],
   "source": [
    "print(name1)"
   ]
  },
  {
   "cell_type": "code",
   "execution_count": null,
   "id": "2b55c438",
   "metadata": {},
   "outputs": [],
   "source": []
  },
  {
   "cell_type": "code",
   "execution_count": null,
   "id": "e37adf4d",
   "metadata": {},
   "outputs": [],
   "source": [
    "Rule no. 3 - A variable should not contain any special characters (!@#$%^&* (Not to be used))"
   ]
  },
  {
   "cell_type": "code",
   "execution_count": 16,
   "id": "06341f35",
   "metadata": {},
   "outputs": [
    {
     "ename": "SyntaxError",
     "evalue": "invalid syntax (1381492894.py, line 1)",
     "output_type": "error",
     "traceback": [
      "\u001b[1;36m  Cell \u001b[1;32mIn[16], line 1\u001b[1;36m\u001b[0m\n\u001b[1;33m    name@ = \"Joseph\"\u001b[0m\n\u001b[1;37m          ^\u001b[0m\n\u001b[1;31mSyntaxError\u001b[0m\u001b[1;31m:\u001b[0m invalid syntax\n"
     ]
    }
   ],
   "source": [
    "name@ = \"Joseph\""
   ]
  },
  {
   "cell_type": "code",
   "execution_count": null,
   "id": "e49d4655",
   "metadata": {},
   "outputs": [],
   "source": []
  },
  {
   "cell_type": "code",
   "execution_count": null,
   "id": "1caffab5",
   "metadata": {},
   "outputs": [],
   "source": [
    "Introduction to data types-"
   ]
  },
  {
   "cell_type": "code",
   "execution_count": null,
   "id": "fc2fb32d",
   "metadata": {},
   "outputs": [],
   "source": [
    "1. String ==========> str"
   ]
  },
  {
   "cell_type": "code",
   "execution_count": null,
   "id": "ee04a12c",
   "metadata": {},
   "outputs": [],
   "source": [
    "2. Numbers\n",
    "interger============> int\n",
    "float ==============> float (decimals=====> 0.1, 0.2....etc)"
   ]
  },
  {
   "cell_type": "code",
   "execution_count": null,
   "id": "7673cb3e",
   "metadata": {},
   "outputs": [],
   "source": [
    "3. List=============> list"
   ]
  },
  {
   "cell_type": "code",
   "execution_count": null,
   "id": "5b7149a2",
   "metadata": {},
   "outputs": [],
   "source": [
    "4. Tuples===========> tuple"
   ]
  },
  {
   "cell_type": "code",
   "execution_count": null,
   "id": "08692edb",
   "metadata": {},
   "outputs": [],
   "source": [
    "5. Dictionary=======> dict"
   ]
  },
  {
   "cell_type": "code",
   "execution_count": null,
   "id": "44a15c7a",
   "metadata": {},
   "outputs": [],
   "source": []
  },
  {
   "cell_type": "code",
   "execution_count": null,
   "id": "7d956ed0",
   "metadata": {},
   "outputs": [],
   "source": [
    "Classification of data types"
   ]
  },
  {
   "cell_type": "code",
   "execution_count": null,
   "id": "a273506d",
   "metadata": {},
   "outputs": [],
   "source": [
    "Broadly data types are classified into 2 categories:"
   ]
  },
  {
   "cell_type": "code",
   "execution_count": null,
   "id": "e2114f9b",
   "metadata": {},
   "outputs": [],
   "source": [
    "1. Mutable data type==> which we can edit/alter====> flexible in nature"
   ]
  },
  {
   "cell_type": "code",
   "execution_count": null,
   "id": "a275378f",
   "metadata": {},
   "outputs": [],
   "source": [
    "2. Immutable data type===> which we cannot be able to edit/ alter=====> fixed in nature"
   ]
  },
  {
   "cell_type": "code",
   "execution_count": null,
   "id": "92094bb0",
   "metadata": {},
   "outputs": [],
   "source": []
  },
  {
   "cell_type": "code",
   "execution_count": null,
   "id": "7878208e",
   "metadata": {},
   "outputs": [],
   "source": [
    "Introduction to string datatypes"
   ]
  },
  {
   "cell_type": "code",
   "execution_count": null,
   "id": "4672076c",
   "metadata": {},
   "outputs": [],
   "source": [
    "Definition - A string is nothing but a series of characters declared in quotes"
   ]
  },
  {
   "cell_type": "code",
   "execution_count": null,
   "id": "d3687e99",
   "metadata": {},
   "outputs": [],
   "source": [
    "Classification - It is classified as on immutable data type."
   ]
  },
  {
   "cell_type": "code",
   "execution_count": null,
   "id": "98c76a4f",
   "metadata": {},
   "outputs": [],
   "source": [
    "How to define the string data types:"
   ]
  },
  {
   "cell_type": "code",
   "execution_count": null,
   "id": "3b742714",
   "metadata": {},
   "outputs": [],
   "source": [
    "1. Single quotes -''"
   ]
  },
  {
   "cell_type": "code",
   "execution_count": null,
   "id": "b008ec98",
   "metadata": {},
   "outputs": [],
   "source": [
    "2. Double quotes - \"\""
   ]
  },
  {
   "cell_type": "code",
   "execution_count": null,
   "id": "2d3ffdff",
   "metadata": {},
   "outputs": [],
   "source": []
  },
  {
   "cell_type": "code",
   "execution_count": 1,
   "id": "ec8326e4",
   "metadata": {},
   "outputs": [],
   "source": [
    "name = 'Naga babu'"
   ]
  },
  {
   "cell_type": "code",
   "execution_count": 2,
   "id": "b8f2eda1",
   "metadata": {},
   "outputs": [
    {
     "name": "stdout",
     "output_type": "stream",
     "text": [
      "Naga babu\n"
     ]
    }
   ],
   "source": [
    "print(name)"
   ]
  },
  {
   "cell_type": "code",
   "execution_count": null,
   "id": "0a41d5b7",
   "metadata": {},
   "outputs": [],
   "source": []
  },
  {
   "cell_type": "code",
   "execution_count": 3,
   "id": "61873a2a",
   "metadata": {},
   "outputs": [],
   "source": [
    "name=\"Basha\" "
   ]
  },
  {
   "cell_type": "code",
   "execution_count": 4,
   "id": "61470966",
   "metadata": {},
   "outputs": [
    {
     "name": "stdout",
     "output_type": "stream",
     "text": [
      "Basha\n"
     ]
    }
   ],
   "source": [
    "print(name)"
   ]
  },
  {
   "cell_type": "code",
   "execution_count": 5,
   "id": "49a9d273",
   "metadata": {},
   "outputs": [
    {
     "data": {
      "text/plain": [
       "str"
      ]
     },
     "execution_count": 5,
     "metadata": {},
     "output_type": "execute_result"
    }
   ],
   "source": [
    "type(name)"
   ]
  },
  {
   "cell_type": "code",
   "execution_count": null,
   "id": "a3b2ef4c",
   "metadata": {},
   "outputs": [],
   "source": []
  },
  {
   "cell_type": "code",
   "execution_count": 6,
   "id": "e2aec204",
   "metadata": {},
   "outputs": [],
   "source": [
    "fullname=\"Joseph anthony\""
   ]
  },
  {
   "cell_type": "code",
   "execution_count": 7,
   "id": "04d7bb9a",
   "metadata": {},
   "outputs": [
    {
     "name": "stdout",
     "output_type": "stream",
     "text": [
      "Joseph anthony\n"
     ]
    }
   ],
   "source": [
    "print(fullname)"
   ]
  },
  {
   "cell_type": "code",
   "execution_count": 8,
   "id": "9283eeb2",
   "metadata": {},
   "outputs": [
    {
     "name": "stdout",
     "output_type": "stream",
     "text": [
      "Joseph Anthony\n"
     ]
    }
   ],
   "source": [
    "print(fullname.title())"
   ]
  },
  {
   "cell_type": "code",
   "execution_count": null,
   "id": "cdc39eba",
   "metadata": {},
   "outputs": [],
   "source": []
  },
  {
   "cell_type": "code",
   "execution_count": null,
   "id": "df028626",
   "metadata": {},
   "outputs": [],
   "source": [
    "# req: i want the entire name in capitals:"
   ]
  },
  {
   "cell_type": "code",
   "execution_count": 9,
   "id": "82b6ec26",
   "metadata": {},
   "outputs": [
    {
     "name": "stdout",
     "output_type": "stream",
     "text": [
      "JOSEPH ANTHONY\n"
     ]
    }
   ],
   "source": [
    "print(fullname.upper())"
   ]
  },
  {
   "cell_type": "code",
   "execution_count": null,
   "id": "375e1e11",
   "metadata": {},
   "outputs": [],
   "source": [
    "# req: i want the entire name in capitals:"
   ]
  },
  {
   "cell_type": "code",
   "execution_count": 10,
   "id": "02aa589b",
   "metadata": {},
   "outputs": [
    {
     "name": "stdout",
     "output_type": "stream",
     "text": [
      "joseph anthony\n"
     ]
    }
   ],
   "source": [
    "print(fullname.lower())"
   ]
  },
  {
   "cell_type": "code",
   "execution_count": null,
   "id": "4f3010bd",
   "metadata": {},
   "outputs": [],
   "source": []
  },
  {
   "cell_type": "code",
   "execution_count": null,
   "id": "4e89b7a3",
   "metadata": {},
   "outputs": [],
   "source": []
  }
 ],
 "metadata": {
  "kernelspec": {
   "display_name": "Python 3 (ipykernel)",
   "language": "python",
   "name": "python3"
  },
  "language_info": {
   "codemirror_mode": {
    "name": "ipython",
    "version": 3
   },
   "file_extension": ".py",
   "mimetype": "text/x-python",
   "name": "python",
   "nbconvert_exporter": "python",
   "pygments_lexer": "ipython3",
   "version": "3.11.5"
  }
 },
 "nbformat": 4,
 "nbformat_minor": 5
}
