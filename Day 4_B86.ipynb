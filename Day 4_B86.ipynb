{
 "cells": [
  {
   "cell_type": "code",
   "execution_count": null,
   "id": "68210492",
   "metadata": {},
   "outputs": [],
   "source": [
    "Introduction to list datatype:"
   ]
  },
  {
   "cell_type": "code",
   "execution_count": null,
   "id": "10c84483",
   "metadata": {},
   "outputs": [],
   "source": [
    "Definition - A list is a collection of items declared in a particular order"
   ]
  },
  {
   "cell_type": "code",
   "execution_count": null,
   "id": "ab8907dd",
   "metadata": {},
   "outputs": [],
   "source": [
    "Classification - It is classified as mutable datatype"
   ]
  },
  {
   "cell_type": "code",
   "execution_count": null,
   "id": "8a3069f5",
   "metadata": {},
   "outputs": [],
   "source": []
  },
  {
   "cell_type": "code",
   "execution_count": null,
   "id": "65eb49d2",
   "metadata": {},
   "outputs": [],
   "source": [
    "How to define/ declare the list datatype..............[]"
   ]
  },
  {
   "cell_type": "code",
   "execution_count": null,
   "id": "c3c5f0b5",
   "metadata": {},
   "outputs": [],
   "source": []
  },
  {
   "cell_type": "code",
   "execution_count": 3,
   "id": "50ed4018",
   "metadata": {},
   "outputs": [],
   "source": [
    "students=['afsha','pradeepa','naveen','prakash','muskan','abdul']"
   ]
  },
  {
   "cell_type": "code",
   "execution_count": 4,
   "id": "42fefe6e",
   "metadata": {},
   "outputs": [
    {
     "name": "stdout",
     "output_type": "stream",
     "text": [
      "['afsha', 'pradeepa', 'naveen', 'prakash', 'muskan', 'abdul']\n"
     ]
    }
   ],
   "source": [
    "print(students)"
   ]
  },
  {
   "cell_type": "code",
   "execution_count": 3,
   "id": "df35b99a",
   "metadata": {},
   "outputs": [
    {
     "data": {
      "text/plain": [
       "list"
      ]
     },
     "execution_count": 3,
     "metadata": {},
     "output_type": "execute_result"
    }
   ],
   "source": [
    "type(students)"
   ]
  },
  {
   "cell_type": "code",
   "execution_count": null,
   "id": "a45995ce",
   "metadata": {},
   "outputs": [],
   "source": []
  },
  {
   "cell_type": "code",
   "execution_count": null,
   "id": "08cee563",
   "metadata": {},
   "outputs": [],
   "source": [
    "Introduction to indexing:"
   ]
  },
  {
   "cell_type": "code",
   "execution_count": null,
   "id": "a9260089",
   "metadata": {},
   "outputs": [],
   "source": [
    "Indexing will be starting from the value '0' onwards-"
   ]
  },
  {
   "cell_type": "code",
   "execution_count": null,
   "id": "3a1bb535",
   "metadata": {},
   "outputs": [],
   "source": []
  },
  {
   "cell_type": "code",
   "execution_count": null,
   "id": "5ba0cf75",
   "metadata": {},
   "outputs": [],
   "source": [
    "#req: i want to get pradeepa name in the output"
   ]
  },
  {
   "cell_type": "code",
   "execution_count": 4,
   "id": "959bebfe",
   "metadata": {},
   "outputs": [
    {
     "name": "stdout",
     "output_type": "stream",
     "text": [
      "pradeepa\n"
     ]
    }
   ],
   "source": [
    "print(students[1])"
   ]
  },
  {
   "cell_type": "code",
   "execution_count": null,
   "id": "e41c3221",
   "metadata": {},
   "outputs": [],
   "source": []
  },
  {
   "cell_type": "code",
   "execution_count": null,
   "id": "24578165",
   "metadata": {},
   "outputs": [],
   "source": [
    "#req: i want to get pradeepa name in upper case"
   ]
  },
  {
   "cell_type": "code",
   "execution_count": 8,
   "id": "fe95a266",
   "metadata": {},
   "outputs": [
    {
     "name": "stdout",
     "output_type": "stream",
     "text": [
      "Pradeepa\n"
     ]
    }
   ],
   "source": [
    "print(students[1].title())"
   ]
  },
  {
   "cell_type": "code",
   "execution_count": 9,
   "id": "4310dd3d",
   "metadata": {},
   "outputs": [
    {
     "name": "stdout",
     "output_type": "stream",
     "text": [
      "PRADEEPA\n"
     ]
    }
   ],
   "source": [
    "print(students[1].upper())"
   ]
  },
  {
   "cell_type": "code",
   "execution_count": 10,
   "id": "1c5a8422",
   "metadata": {},
   "outputs": [
    {
     "name": "stdout",
     "output_type": "stream",
     "text": [
      "pradeepa\n"
     ]
    }
   ],
   "source": [
    "print(students[1].lower())"
   ]
  },
  {
   "cell_type": "code",
   "execution_count": null,
   "id": "763088f5",
   "metadata": {},
   "outputs": [],
   "source": []
  },
  {
   "cell_type": "code",
   "execution_count": null,
   "id": "54f8d4da",
   "metadata": {},
   "outputs": [],
   "source": [
    "#req: i want to get prakash name in the output"
   ]
  },
  {
   "cell_type": "code",
   "execution_count": null,
   "id": "6af6d84d",
   "metadata": {},
   "outputs": [],
   "source": []
  },
  {
   "cell_type": "code",
   "execution_count": 12,
   "id": "377bf8f8",
   "metadata": {},
   "outputs": [
    {
     "name": "stdout",
     "output_type": "stream",
     "text": [
      "Prakash\n"
     ]
    }
   ],
   "source": [
    "print(students[3].title())"
   ]
  },
  {
   "cell_type": "code",
   "execution_count": null,
   "id": "f6486ad6",
   "metadata": {},
   "outputs": [],
   "source": []
  },
  {
   "cell_type": "code",
   "execution_count": null,
   "id": "ba683157",
   "metadata": {},
   "outputs": [],
   "source": [
    "1. How to add new elements to the list"
   ]
  },
  {
   "cell_type": "code",
   "execution_count": null,
   "id": "3bd84ea1",
   "metadata": {},
   "outputs": [],
   "source": [
    "2. How to modify the elements in the list"
   ]
  },
  {
   "cell_type": "code",
   "execution_count": null,
   "id": "3b6716c2",
   "metadata": {},
   "outputs": [],
   "source": [
    "3. How to delete the elements in the list"
   ]
  },
  {
   "cell_type": "code",
   "execution_count": null,
   "id": "6cc3fde5",
   "metadata": {},
   "outputs": [],
   "source": []
  },
  {
   "cell_type": "code",
   "execution_count": null,
   "id": "9fcc3d42",
   "metadata": {},
   "outputs": [],
   "source": [
    "# req: i want to add joseph in the list"
   ]
  },
  {
   "cell_type": "code",
   "execution_count": null,
   "id": "814025d0",
   "metadata": {},
   "outputs": [],
   "source": []
  },
  {
   "cell_type": "code",
   "execution_count": 6,
   "id": "0f8dee10",
   "metadata": {},
   "outputs": [],
   "source": [
    "students.append(\"joseph\")"
   ]
  },
  {
   "cell_type": "code",
   "execution_count": 7,
   "id": "10e593c9",
   "metadata": {},
   "outputs": [
    {
     "name": "stdout",
     "output_type": "stream",
     "text": [
      "['afsha', 'pradeepa', 'naveen', 'prakash', 'muskan', 'abdul', 'joseph', 'joseph']\n"
     ]
    }
   ],
   "source": [
    "print(students)"
   ]
  },
  {
   "cell_type": "code",
   "execution_count": null,
   "id": "f7742a45",
   "metadata": {},
   "outputs": [],
   "source": []
  },
  {
   "cell_type": "code",
   "execution_count": null,
   "id": "61f1e4ce",
   "metadata": {},
   "outputs": [],
   "source": [
    "# req: i want to add santosh in the list"
   ]
  },
  {
   "cell_type": "code",
   "execution_count": null,
   "id": "bfed8a4f",
   "metadata": {},
   "outputs": [],
   "source": []
  },
  {
   "cell_type": "code",
   "execution_count": 8,
   "id": "7d8f6447",
   "metadata": {},
   "outputs": [],
   "source": [
    "students.append('santosh')"
   ]
  },
  {
   "cell_type": "code",
   "execution_count": 9,
   "id": "de94a86c",
   "metadata": {},
   "outputs": [
    {
     "name": "stdout",
     "output_type": "stream",
     "text": [
      "['afsha', 'pradeepa', 'naveen', 'prakash', 'muskan', 'abdul', 'joseph', 'joseph', 'santosh']\n"
     ]
    }
   ],
   "source": [
    "print(students)"
   ]
  },
  {
   "cell_type": "code",
   "execution_count": null,
   "id": "0e998dd9",
   "metadata": {},
   "outputs": [],
   "source": []
  },
  {
   "cell_type": "code",
   "execution_count": null,
   "id": "94e5d007",
   "metadata": {},
   "outputs": [],
   "source": [
    "# req: i want to add afreen in the 2nd index position"
   ]
  },
  {
   "cell_type": "code",
   "execution_count": null,
   "id": "378b18db",
   "metadata": {},
   "outputs": [],
   "source": []
  },
  {
   "cell_type": "code",
   "execution_count": 10,
   "id": "82d52142",
   "metadata": {},
   "outputs": [
    {
     "ename": "NameError",
     "evalue": "name 'afreen' is not defined",
     "output_type": "error",
     "traceback": [
      "\u001b[1;31m---------------------------------------------------------------------------\u001b[0m",
      "\u001b[1;31mNameError\u001b[0m                                 Traceback (most recent call last)",
      "Cell \u001b[1;32mIn[10], line 1\u001b[0m\n\u001b[1;32m----> 1\u001b[0m students\u001b[38;5;241m.\u001b[39minsert(\u001b[38;5;241m2\u001b[39m,afreen)\n",
      "\u001b[1;31mNameError\u001b[0m: name 'afreen' is not defined"
     ]
    }
   ],
   "source": [
    "students.insert(2,'afreen')"
   ]
  },
  {
   "cell_type": "code",
   "execution_count": 11,
   "id": "61d146c1",
   "metadata": {},
   "outputs": [],
   "source": [
    "students.insert(2,'afreen')"
   ]
  },
  {
   "cell_type": "code",
   "execution_count": 12,
   "id": "fc833b54",
   "metadata": {},
   "outputs": [
    {
     "name": "stdout",
     "output_type": "stream",
     "text": [
      "['afsha', 'pradeepa', 'afreen', 'naveen', 'prakash', 'muskan', 'abdul', 'joseph', 'joseph', 'santosh']\n"
     ]
    }
   ],
   "source": [
    "print(students)"
   ]
  },
  {
   "cell_type": "code",
   "execution_count": 13,
   "id": "d89b8187",
   "metadata": {},
   "outputs": [
    {
     "name": "stdout",
     "output_type": "stream",
     "text": [
      "afreen\n"
     ]
    }
   ],
   "source": [
    "print(students[2])"
   ]
  },
  {
   "cell_type": "code",
   "execution_count": null,
   "id": "fc80fc7c",
   "metadata": {},
   "outputs": [],
   "source": []
  },
  {
   "cell_type": "code",
   "execution_count": null,
   "id": "2bed1a8c",
   "metadata": {},
   "outputs": [],
   "source": [
    "****** INTERVIEW QUESTION- What is difference between append and insert method in the list, can you pls explain?"
   ]
  },
  {
   "cell_type": "code",
   "execution_count": null,
   "id": "4581e6b4",
   "metadata": {},
   "outputs": [],
   "source": []
  },
  {
   "cell_type": "code",
   "execution_count": null,
   "id": "dd1a4729",
   "metadata": {},
   "outputs": [],
   "source": [
    "# req = i want to modify afsha name to sonam "
   ]
  },
  {
   "cell_type": "code",
   "execution_count": 17,
   "id": "f2ce9520",
   "metadata": {},
   "outputs": [],
   "source": [
    "students[0]=\"sonam\""
   ]
  },
  {
   "cell_type": "code",
   "execution_count": 18,
   "id": "0feb6f21",
   "metadata": {},
   "outputs": [
    {
     "name": "stdout",
     "output_type": "stream",
     "text": [
      "['sonam', 'pradeepa', 'afreen', 'naveen', 'prakash', 'muskan', 'abdul', 'joseph', 'joseph', 'santosh']\n"
     ]
    }
   ],
   "source": [
    "print(students)"
   ]
  },
  {
   "cell_type": "code",
   "execution_count": null,
   "id": "519ca5ae",
   "metadata": {},
   "outputs": [],
   "source": []
  },
  {
   "cell_type": "code",
   "execution_count": null,
   "id": "5532f1a8",
   "metadata": {},
   "outputs": [],
   "source": [
    "HOW TO DELETE ELEMENTS IN THE LIST"
   ]
  },
  {
   "cell_type": "code",
   "execution_count": null,
   "id": "bfb2394c",
   "metadata": {},
   "outputs": [],
   "source": []
  },
  {
   "cell_type": "code",
   "execution_count": null,
   "id": "84fb718b",
   "metadata": {},
   "outputs": [],
   "source": [
    "# req = i want to delete naveen name from the list"
   ]
  },
  {
   "cell_type": "code",
   "execution_count": null,
   "id": "729d89ee",
   "metadata": {},
   "outputs": [],
   "source": []
  },
  {
   "cell_type": "code",
   "execution_count": 19,
   "id": "1b8d4fe4",
   "metadata": {},
   "outputs": [],
   "source": [
    "del students[3] =======> \"it will be permanent delete\""
   ]
  },
  {
   "cell_type": "code",
   "execution_count": 20,
   "id": "cf9a088d",
   "metadata": {},
   "outputs": [
    {
     "name": "stdout",
     "output_type": "stream",
     "text": [
      "['sonam', 'pradeepa', 'afreen', 'prakash', 'muskan', 'abdul', 'joseph', 'joseph', 'santosh']\n"
     ]
    }
   ],
   "source": [
    "print(students)"
   ]
  },
  {
   "cell_type": "code",
   "execution_count": null,
   "id": "372a5e85",
   "metadata": {},
   "outputs": [],
   "source": []
  },
  {
   "cell_type": "code",
   "execution_count": null,
   "id": "6015371c",
   "metadata": {},
   "outputs": [],
   "source": [
    "# temporary deleting the elements using pop method"
   ]
  },
  {
   "cell_type": "code",
   "execution_count": null,
   "id": "9020677d",
   "metadata": {},
   "outputs": [],
   "source": [
    "pop will be by default deleting the last name in the list"
   ]
  },
  {
   "cell_type": "code",
   "execution_count": null,
   "id": "b24a67da",
   "metadata": {},
   "outputs": [],
   "source": []
  },
  {
   "cell_type": "code",
   "execution_count": 21,
   "id": "655d56ee",
   "metadata": {},
   "outputs": [],
   "source": [
    "x=students.pop()"
   ]
  },
  {
   "cell_type": "code",
   "execution_count": 22,
   "id": "a30f629f",
   "metadata": {},
   "outputs": [
    {
     "name": "stdout",
     "output_type": "stream",
     "text": [
      "['sonam', 'pradeepa', 'afreen', 'prakash', 'muskan', 'abdul', 'joseph', 'joseph']\n"
     ]
    }
   ],
   "source": [
    "print(students)"
   ]
  },
  {
   "cell_type": "code",
   "execution_count": null,
   "id": "d4b32146",
   "metadata": {},
   "outputs": [],
   "source": []
  },
  {
   "cell_type": "code",
   "execution_count": 23,
   "id": "ce7c092f",
   "metadata": {},
   "outputs": [
    {
     "name": "stdout",
     "output_type": "stream",
     "text": [
      "santosh\n"
     ]
    }
   ],
   "source": [
    "print(x)"
   ]
  },
  {
   "cell_type": "code",
   "execution_count": null,
   "id": "f9187931",
   "metadata": {},
   "outputs": [],
   "source": [
    "*********INTERVIEW QUESTION- What is difference between delete and pop method in the list?"
   ]
  },
  {
   "cell_type": "code",
   "execution_count": null,
   "id": "2449132e",
   "metadata": {},
   "outputs": [],
   "source": []
  },
  {
   "cell_type": "code",
   "execution_count": null,
   "id": "df69b415",
   "metadata": {},
   "outputs": [],
   "source": [
    "# hash is used to commenting the code"
   ]
  }
 ],
 "metadata": {
  "kernelspec": {
   "display_name": "Python 3 (ipykernel)",
   "language": "python",
   "name": "python3"
  },
  "language_info": {
   "codemirror_mode": {
    "name": "ipython",
    "version": 3
   },
   "file_extension": ".py",
   "mimetype": "text/x-python",
   "name": "python",
   "nbconvert_exporter": "python",
   "pygments_lexer": "ipython3",
   "version": "3.11.5"
  }
 },
 "nbformat": 4,
 "nbformat_minor": 5
}
