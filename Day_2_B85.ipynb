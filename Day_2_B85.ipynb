{
 "cells": [
  {
   "cell_type": "code",
   "execution_count": null,
   "id": "403edbf0",
   "metadata": {},
   "outputs": [],
   "source": [
    "Introduction to Python programming"
   ]
  },
  {
   "cell_type": "code",
   "execution_count": null,
   "id": "0fb02e50",
   "metadata": {
    "collapsed": true
   },
   "outputs": [],
   "source": [
    "Understanding the variables in python:"
   ]
  },
  {
   "cell_type": "raw",
   "id": "471039c4",
   "metadata": {},
   "source": []
  },
  {
   "cell_type": "code",
   "execution_count": null,
   "id": "5ab962d3",
   "metadata": {},
   "outputs": [],
   "source": [
    "There are 3 rules while assinging th variables"
   ]
  },
  {
   "cell_type": "code",
   "execution_count": null,
   "id": "86389042",
   "metadata": {},
   "outputs": [],
   "source": [
    "Rules for declaring the Python"
   ]
  },
  {
   "cell_type": "code",
   "execution_count": null,
   "id": "bfe48389",
   "metadata": {},
   "outputs": [],
   "source": [
    "Rules no. 1 -  No name spaces while declaring the variable name"
   ]
  },
  {
   "cell_type": "code",
   "execution_count": 1,
   "id": "ee879d38",
   "metadata": {},
   "outputs": [
    {
     "ename": "SyntaxError",
     "evalue": "invalid syntax (3369779445.py, line 1)",
     "output_type": "error",
     "traceback": [
      "\u001b[1;36m  Cell \u001b[1;32mIn[1], line 1\u001b[1;36m\u001b[0m\n\u001b[1;33m    first name = 'Santosh'\u001b[0m\n\u001b[1;37m          ^\u001b[0m\n\u001b[1;31mSyntaxError\u001b[0m\u001b[1;31m:\u001b[0m invalid syntax\n"
     ]
    }
   ],
   "source": [
    "firstname = 'Santosh'"
   ]
  },
  {
   "cell_type": "code",
   "execution_count": 2,
   "id": "f790e0f5",
   "metadata": {},
   "outputs": [],
   "source": [
    "firstname ='Santosh'"
   ]
  },
  {
   "cell_type": "code",
   "execution_count": 3,
   "id": "6d5191c2",
   "metadata": {},
   "outputs": [
    {
     "name": "stdout",
     "output_type": "stream",
     "text": [
      "Santosh\n"
     ]
    }
   ],
   "source": [
    "print(firstname)"
   ]
  },
  {
   "cell_type": "code",
   "execution_count": 4,
   "id": "c9f13204",
   "metadata": {},
   "outputs": [
    {
     "ename": "NameError",
     "evalue": "name 'first_name' is not defined",
     "output_type": "error",
     "traceback": [
      "\u001b[1;31m---------------------------------------------------------------------------\u001b[0m",
      "\u001b[1;31mNameError\u001b[0m                                 Traceback (most recent call last)",
      "Cell \u001b[1;32mIn[4], line 1\u001b[0m\n\u001b[1;32m----> 1\u001b[0m \u001b[38;5;28mprint\u001b[39m(first_name)\n",
      "\u001b[1;31mNameError\u001b[0m: name 'first_name' is not defined"
     ]
    }
   ],
   "source": [
    "print(first_name)"
   ]
  },
  {
   "cell_type": "code",
   "execution_count": 5,
   "id": "6ef0c6eb",
   "metadata": {},
   "outputs": [],
   "source": [
    "first_name = 'Santosh'"
   ]
  },
  {
   "cell_type": "code",
   "execution_count": 6,
   "id": "d65b47c0",
   "metadata": {},
   "outputs": [
    {
     "name": "stdout",
     "output_type": "stream",
     "text": [
      "Santosh\n"
     ]
    }
   ],
   "source": [
    "print(first_name)"
   ]
  },
  {
   "cell_type": "code",
   "execution_count": null,
   "id": "e8b0d836",
   "metadata": {},
   "outputs": [],
   "source": [
    "Rule no.2 - Variable name should not start with number "
   ]
  },
  {
   "cell_type": "code",
   "execution_count": 7,
   "id": "5896094f",
   "metadata": {},
   "outputs": [
    {
     "ename": "SyntaxError",
     "evalue": "invalid decimal literal (50400650.py, line 1)",
     "output_type": "error",
     "traceback": [
      "\u001b[1;36m  Cell \u001b[1;32mIn[7], line 1\u001b[1;36m\u001b[0m\n\u001b[1;33m    1name = 'Santosh'\u001b[0m\n\u001b[1;37m    ^\u001b[0m\n\u001b[1;31mSyntaxError\u001b[0m\u001b[1;31m:\u001b[0m invalid decimal literal\n"
     ]
    }
   ],
   "source": [
    "1name = 'Santosh'"
   ]
  },
  {
   "cell_type": "code",
   "execution_count": 8,
   "id": "3d2a77bb",
   "metadata": {},
   "outputs": [],
   "source": [
    "name1 = 'Santosh'"
   ]
  },
  {
   "cell_type": "code",
   "execution_count": 9,
   "id": "4dbc9b65",
   "metadata": {},
   "outputs": [
    {
     "name": "stdout",
     "output_type": "stream",
     "text": [
      "Santosh\n"
     ]
    }
   ],
   "source": [
    "print(name1)"
   ]
  },
  {
   "cell_type": "code",
   "execution_count": null,
   "id": "ebc3d5d4",
   "metadata": {},
   "outputs": [],
   "source": [
    "Number can be used in middle or end except at the initial"
   ]
  },
  {
   "cell_type": "code",
   "execution_count": 6,
   "id": "3f64ada5",
   "metadata": {},
   "outputs": [
    {
     "name": "stdout",
     "output_type": "stream",
     "text": [
      "Santosh\n"
     ]
    }
   ],
   "source": [
    "name1sk ='Santosh'\n",
    "print(name1sk)"
   ]
  },
  {
   "cell_type": "code",
   "execution_count": null,
   "id": "1c3fee65",
   "metadata": {},
   "outputs": [],
   "source": []
  },
  {
   "cell_type": "code",
   "execution_count": null,
   "id": "4f2723e9",
   "metadata": {},
   "outputs": [],
   "source": [
    "Rule no. 3 - A variable should not contain any special characters"
   ]
  },
  {
   "cell_type": "code",
   "execution_count": null,
   "id": "f09844eb",
   "metadata": {},
   "outputs": [],
   "source": [
    "Like @#$%^&*()"
   ]
  },
  {
   "cell_type": "code",
   "execution_count": 10,
   "id": "e4bf828f",
   "metadata": {},
   "outputs": [
    {
     "ename": "SyntaxError",
     "evalue": "invalid syntax (4036762538.py, line 1)",
     "output_type": "error",
     "traceback": [
      "\u001b[1;36m  Cell \u001b[1;32mIn[10], line 1\u001b[1;36m\u001b[0m\n\u001b[1;33m    name@ = 'Santosh'\u001b[0m\n\u001b[1;37m          ^\u001b[0m\n\u001b[1;31mSyntaxError\u001b[0m\u001b[1;31m:\u001b[0m invalid syntax\n"
     ]
    }
   ],
   "source": [
    "name@ = 'Santosh'\n",
    "print(name)"
   ]
  },
  {
   "cell_type": "code",
   "execution_count": 12,
   "id": "b6964f80",
   "metadata": {},
   "outputs": [
    {
     "ename": "SyntaxError",
     "evalue": "invalid syntax (641611888.py, line 1)",
     "output_type": "error",
     "traceback": [
      "\u001b[1;36m  Cell \u001b[1;32mIn[12], line 1\u001b[1;36m\u001b[0m\n\u001b[1;33m    Introduction to data types in Python\u001b[0m\n\u001b[1;37m                 ^\u001b[0m\n\u001b[1;31mSyntaxError\u001b[0m\u001b[1;31m:\u001b[0m invalid syntax\n"
     ]
    }
   ],
   "source": [
    "Introduction to data types in Python\n",
    "\n",
    "1. String = str"
   ]
  },
  {
   "cell_type": "code",
   "execution_count": null,
   "id": "96b525e6",
   "metadata": {},
   "outputs": [],
   "source": [
    "2. Number = Integer (int) and Floats (decimal eg 0.1, 0.2)"
   ]
  },
  {
   "cell_type": "code",
   "execution_count": null,
   "id": "23006887",
   "metadata": {},
   "outputs": [],
   "source": [
    "3. List = list"
   ]
  },
  {
   "cell_type": "code",
   "execution_count": null,
   "id": "d063e577",
   "metadata": {},
   "outputs": [],
   "source": [
    "4. Tuples = tuple"
   ]
  },
  {
   "cell_type": "code",
   "execution_count": null,
   "id": "26726663",
   "metadata": {},
   "outputs": [],
   "source": [
    "5. Dictionaries = dict"
   ]
  },
  {
   "cell_type": "code",
   "execution_count": null,
   "id": "86be077f",
   "metadata": {},
   "outputs": [],
   "source": []
  },
  {
   "cell_type": "code",
   "execution_count": null,
   "id": "59643825",
   "metadata": {},
   "outputs": [],
   "source": [
    "Classification of data types:"
   ]
  },
  {
   "cell_type": "code",
   "execution_count": null,
   "id": "9a0139d3",
   "metadata": {},
   "outputs": [],
   "source": [
    "Broadly datatypes are classified in 2 categories"
   ]
  },
  {
   "cell_type": "code",
   "execution_count": 13,
   "id": "8415f77b",
   "metadata": {},
   "outputs": [
    {
     "ename": "SyntaxError",
     "evalue": "invalid syntax (2538661094.py, line 1)",
     "output_type": "error",
     "traceback": [
      "\u001b[1;36m  Cell \u001b[1;32mIn[13], line 1\u001b[1;36m\u001b[0m\n\u001b[1;33m    1. Mutable datatype\u001b[0m\n\u001b[1;37m       ^\u001b[0m\n\u001b[1;31mSyntaxError\u001b[0m\u001b[1;31m:\u001b[0m invalid syntax\n"
     ]
    }
   ],
   "source": [
    "1. Mutable datatype\n",
    "===> we can able to edit and alter\n",
    "===> Flexible in nature"
   ]
  },
  {
   "cell_type": "code",
   "execution_count": null,
   "id": "239a1d70",
   "metadata": {},
   "outputs": [],
   "source": [
    "2. Immutable datatypes\n",
    "===> we cannot able to edit and alter\n",
    "===> Fixed in nature"
   ]
  },
  {
   "cell_type": "code",
   "execution_count": null,
   "id": "ffb7e16c",
   "metadata": {},
   "outputs": [],
   "source": []
  },
  {
   "cell_type": "code",
   "execution_count": null,
   "id": "2968ced0",
   "metadata": {},
   "outputs": [],
   "source": [
    "Introduction to string data types"
   ]
  },
  {
   "cell_type": "code",
   "execution_count": null,
   "id": "042c01e6",
   "metadata": {},
   "outputs": [],
   "source": [
    "Definition - String is a series of characters declared in quotes"
   ]
  },
  {
   "cell_type": "code",
   "execution_count": null,
   "id": "dc7d249e",
   "metadata": {},
   "outputs": [],
   "source": [
    "Classification - It is classified as an immutable data type"
   ]
  },
  {
   "cell_type": "code",
   "execution_count": null,
   "id": "e84803d3",
   "metadata": {},
   "outputs": [],
   "source": [
    "How to define the string data type"
   ]
  },
  {
   "cell_type": "code",
   "execution_count": null,
   "id": "e52e1d13",
   "metadata": {},
   "outputs": [],
   "source": [
    "Single quote ''\n",
    "Double quote \"\""
   ]
  },
  {
   "cell_type": "code",
   "execution_count": 14,
   "id": "b1e0db7f",
   "metadata": {},
   "outputs": [
    {
     "name": "stdout",
     "output_type": "stream",
     "text": [
      "Santosh\n"
     ]
    }
   ],
   "source": [
    "name = 'Santosh'\n",
    "print(name)"
   ]
  },
  {
   "cell_type": "code",
   "execution_count": 15,
   "id": "490278e0",
   "metadata": {},
   "outputs": [
    {
     "name": "stdout",
     "output_type": "stream",
     "text": [
      "Santosh\n"
     ]
    }
   ],
   "source": [
    "name = \"Santosh\"\n",
    "print(name)"
   ]
  },
  {
   "cell_type": "code",
   "execution_count": null,
   "id": "0690419e",
   "metadata": {},
   "outputs": [],
   "source": []
  },
  {
   "cell_type": "code",
   "execution_count": null,
   "id": "a3d55155",
   "metadata": {},
   "outputs": [],
   "source": [
    "Introduction to String methods - Formulas"
   ]
  },
  {
   "cell_type": "code",
   "execution_count": 16,
   "id": "00f6acff",
   "metadata": {},
   "outputs": [
    {
     "name": "stdout",
     "output_type": "stream",
     "text": [
      "santosh kumar\n"
     ]
    }
   ],
   "source": [
    "fullname='santosh kumar'\n",
    "print(fullname)"
   ]
  },
  {
   "cell_type": "code",
   "execution_count": 17,
   "id": "3d3eb8ee",
   "metadata": {},
   "outputs": [
    {
     "name": "stdout",
     "output_type": "stream",
     "text": [
      "Santosh Kumar\n"
     ]
    }
   ],
   "source": [
    "print(fullname.title())"
   ]
  },
  {
   "cell_type": "code",
   "execution_count": 1,
   "id": "b38b8baa",
   "metadata": {},
   "outputs": [],
   "source": [
    "x=4"
   ]
  },
  {
   "cell_type": "code",
   "execution_count": 2,
   "id": "3ec78737",
   "metadata": {},
   "outputs": [],
   "source": [
    "y=5"
   ]
  },
  {
   "cell_type": "code",
   "execution_count": 3,
   "id": "4b2cf48d",
   "metadata": {},
   "outputs": [],
   "source": [
    "z=x+y"
   ]
  },
  {
   "cell_type": "code",
   "execution_count": null,
   "id": "c21ef9df",
   "metadata": {},
   "outputs": [],
   "source": [
    "print "
   ]
  }
 ],
 "metadata": {
  "kernelspec": {
   "display_name": "Python 3 (ipykernel)",
   "language": "python",
   "name": "python3"
  },
  "language_info": {
   "codemirror_mode": {
    "name": "ipython",
    "version": 3
   },
   "file_extension": ".py",
   "mimetype": "text/x-python",
   "name": "python",
   "nbconvert_exporter": "python",
   "pygments_lexer": "ipython3",
   "version": "3.11.5"
  }
 },
 "nbformat": 4,
 "nbformat_minor": 5
}
