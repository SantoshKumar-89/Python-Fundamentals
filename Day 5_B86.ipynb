{
 "cells": [
  {
   "cell_type": "code",
   "execution_count": null,
   "id": "cd6f72d0",
   "metadata": {},
   "outputs": [],
   "source": [
    "Continuation to list datatype"
   ]
  },
  {
   "cell_type": "code",
   "execution_count": null,
   "id": "1238e7ed",
   "metadata": {},
   "outputs": [],
   "source": []
  },
  {
   "cell_type": "code",
   "execution_count": null,
   "id": "a9b3d16a",
   "metadata": {},
   "outputs": [],
   "source": [
    "* Organising the list data type"
   ]
  },
  {
   "cell_type": "code",
   "execution_count": null,
   "id": "96958df3",
   "metadata": {},
   "outputs": [],
   "source": []
  },
  {
   "cell_type": "code",
   "execution_count": 1,
   "id": "113b77b5",
   "metadata": {},
   "outputs": [],
   "source": [
    "cars=['maruthi','kia','benz','suzuki','audi','toyota','bmw']"
   ]
  },
  {
   "cell_type": "code",
   "execution_count": 2,
   "id": "cc6c475b",
   "metadata": {},
   "outputs": [
    {
     "name": "stdout",
     "output_type": "stream",
     "text": [
      "['maruthi', 'kia', 'benz', 'suzuki', 'audi', 'toyota', 'bmw']\n"
     ]
    }
   ],
   "source": [
    "print(cars)"
   ]
  },
  {
   "cell_type": "code",
   "execution_count": null,
   "id": "e0904107",
   "metadata": {},
   "outputs": [],
   "source": []
  },
  {
   "cell_type": "code",
   "execution_count": 3,
   "id": "0bd69092",
   "metadata": {},
   "outputs": [
    {
     "data": {
      "text/plain": [
       "list"
      ]
     },
     "execution_count": 3,
     "metadata": {},
     "output_type": "execute_result"
    }
   ],
   "source": [
    "type(cars)"
   ]
  },
  {
   "cell_type": "code",
   "execution_count": null,
   "id": "710b0b79",
   "metadata": {},
   "outputs": [],
   "source": []
  },
  {
   "cell_type": "code",
   "execution_count": null,
   "id": "370b0d77",
   "metadata": {},
   "outputs": [],
   "source": [
    "# req: i want to organise the list in a alphabetical order.. A-Z"
   ]
  },
  {
   "cell_type": "code",
   "execution_count": null,
   "id": "a7ddc09e",
   "metadata": {},
   "outputs": [],
   "source": []
  },
  {
   "cell_type": "code",
   "execution_count": null,
   "id": "22143ade",
   "metadata": {},
   "outputs": [],
   "source": [
    "There are 2 approaches:"
   ]
  },
  {
   "cell_type": "code",
   "execution_count": null,
   "id": "71aa4a5c",
   "metadata": {},
   "outputs": [],
   "source": [
    "1. temporary approach=======> Sorted"
   ]
  },
  {
   "cell_type": "code",
   "execution_count": null,
   "id": "81c4ee6e",
   "metadata": {},
   "outputs": [],
   "source": [
    "2. permanent approach=======> Sort"
   ]
  },
  {
   "cell_type": "code",
   "execution_count": null,
   "id": "a0eaebf7",
   "metadata": {},
   "outputs": [],
   "source": []
  },
  {
   "cell_type": "code",
   "execution_count": null,
   "id": "2074a146",
   "metadata": {},
   "outputs": [],
   "source": [
    "Sorted========> we will be having the original order of list created."
   ]
  },
  {
   "cell_type": "code",
   "execution_count": null,
   "id": "4c2e57f6",
   "metadata": {},
   "outputs": [],
   "source": []
  },
  {
   "cell_type": "code",
   "execution_count": 4,
   "id": "7df2d803",
   "metadata": {},
   "outputs": [
    {
     "name": "stdout",
     "output_type": "stream",
     "text": [
      "['audi', 'benz', 'bmw', 'kia', 'maruthi', 'suzuki', 'toyota']\n"
     ]
    }
   ],
   "source": [
    "print(sorted(cars))"
   ]
  },
  {
   "cell_type": "code",
   "execution_count": null,
   "id": "2e701a11",
   "metadata": {},
   "outputs": [],
   "source": []
  },
  {
   "cell_type": "code",
   "execution_count": 5,
   "id": "f4575c85",
   "metadata": {},
   "outputs": [
    {
     "name": "stdout",
     "output_type": "stream",
     "text": [
      "['maruthi', 'kia', 'benz', 'suzuki', 'audi', 'toyota', 'bmw']\n"
     ]
    }
   ],
   "source": [
    "print(cars)-- Orginal order defined earlier"
   ]
  },
  {
   "cell_type": "code",
   "execution_count": null,
   "id": "a5d6fd79",
   "metadata": {},
   "outputs": [],
   "source": []
  },
  {
   "cell_type": "code",
   "execution_count": 6,
   "id": "139092b5",
   "metadata": {},
   "outputs": [],
   "source": [
    "cars.sort()"
   ]
  },
  {
   "cell_type": "code",
   "execution_count": 7,
   "id": "4f585de6",
   "metadata": {},
   "outputs": [
    {
     "name": "stdout",
     "output_type": "stream",
     "text": [
      "['audi', 'benz', 'bmw', 'kia', 'maruthi', 'suzuki', 'toyota']\n"
     ]
    }
   ],
   "source": [
    "print(cars)"
   ]
  },
  {
   "cell_type": "code",
   "execution_count": null,
   "id": "b96b0527",
   "metadata": {},
   "outputs": [],
   "source": []
  },
  {
   "cell_type": "code",
   "execution_count": null,
   "id": "aa6d8b02",
   "metadata": {},
   "outputs": [],
   "source": [
    "benz===bmw===> b, be, bm"
   ]
  },
  {
   "cell_type": "code",
   "execution_count": null,
   "id": "fa0ebe61",
   "metadata": {},
   "outputs": [],
   "source": []
  },
  {
   "cell_type": "code",
   "execution_count": null,
   "id": "0f992c96",
   "metadata": {},
   "outputs": [],
   "source": [
    "********INTERVIEW QUESTION====> What is the difference between the sorted and sort method is a list data type"
   ]
  },
  {
   "cell_type": "code",
   "execution_count": null,
   "id": "209b8829",
   "metadata": {},
   "outputs": [],
   "source": []
  },
  {
   "cell_type": "code",
   "execution_count": null,
   "id": "211c78a4",
   "metadata": {},
   "outputs": [],
   "source": [
    "# i want to print the list in the reverse order========> Z-A"
   ]
  },
  {
   "cell_type": "code",
   "execution_count": null,
   "id": "4683b60b",
   "metadata": {},
   "outputs": [],
   "source": []
  },
  {
   "cell_type": "code",
   "execution_count": 8,
   "id": "cf891c44",
   "metadata": {},
   "outputs": [],
   "source": [
    "cars.reverse()"
   ]
  },
  {
   "cell_type": "code",
   "execution_count": 9,
   "id": "5e83ce6e",
   "metadata": {},
   "outputs": [
    {
     "name": "stdout",
     "output_type": "stream",
     "text": [
      "['toyota', 'suzuki', 'maruthi', 'kia', 'bmw', 'benz', 'audi']\n"
     ]
    }
   ],
   "source": [
    "print(cars)"
   ]
  },
  {
   "cell_type": "code",
   "execution_count": null,
   "id": "da89e638",
   "metadata": {},
   "outputs": [],
   "source": []
  },
  {
   "cell_type": "code",
   "execution_count": null,
   "id": "513c74d3",
   "metadata": {},
   "outputs": [],
   "source": [
    "original fixed order "
   ]
  },
  {
   "cell_type": "code",
   "execution_count": 10,
   "id": "51e6d99f",
   "metadata": {},
   "outputs": [
    {
     "name": "stdout",
     "output_type": "stream",
     "text": [
      "['toyota', 'suzuki', 'maruthi', 'kia', 'bmw', 'benz', 'audi']\n"
     ]
    }
   ],
   "source": [
    "print(cars)"
   ]
  },
  {
   "cell_type": "code",
   "execution_count": null,
   "id": "e5bcb243",
   "metadata": {},
   "outputs": [],
   "source": []
  },
  {
   "cell_type": "code",
   "execution_count": 11,
   "id": "158d1d85",
   "metadata": {},
   "outputs": [],
   "source": [
    "cars.sort()"
   ]
  },
  {
   "cell_type": "code",
   "execution_count": 12,
   "id": "2ca08f3d",
   "metadata": {},
   "outputs": [
    {
     "name": "stdout",
     "output_type": "stream",
     "text": [
      "['audi', 'benz', 'bmw', 'kia', 'maruthi', 'suzuki', 'toyota']\n"
     ]
    }
   ],
   "source": [
    "print(cars)"
   ]
  },
  {
   "cell_type": "code",
   "execution_count": null,
   "id": "633b584d",
   "metadata": {},
   "outputs": [],
   "source": []
  },
  {
   "cell_type": "code",
   "execution_count": null,
   "id": "3fa12b82",
   "metadata": {},
   "outputs": [],
   "source": [
    "# i want to know the total count of elements-"
   ]
  },
  {
   "cell_type": "code",
   "execution_count": null,
   "id": "a97d8888",
   "metadata": {},
   "outputs": [],
   "source": []
  },
  {
   "cell_type": "code",
   "execution_count": 13,
   "id": "2e5f7f89",
   "metadata": {},
   "outputs": [
    {
     "data": {
      "text/plain": [
       "7"
      ]
     },
     "execution_count": 13,
     "metadata": {},
     "output_type": "execute_result"
    }
   ],
   "source": [
    "len(cars)"
   ]
  },
  {
   "cell_type": "code",
   "execution_count": null,
   "id": "bfec7647",
   "metadata": {},
   "outputs": [],
   "source": []
  },
  {
   "cell_type": "code",
   "execution_count": null,
   "id": "08c1ab93",
   "metadata": {},
   "outputs": [],
   "source": [
    "Introduction to slicing"
   ]
  },
  {
   "cell_type": "code",
   "execution_count": null,
   "id": "3f61b1cf",
   "metadata": {},
   "outputs": [],
   "source": []
  },
  {
   "cell_type": "code",
   "execution_count": null,
   "id": "7c0b6966",
   "metadata": {},
   "outputs": [],
   "source": [
    "# general syntax of slicing"
   ]
  },
  {
   "cell_type": "code",
   "execution_count": null,
   "id": "234f6ac7",
   "metadata": {},
   "outputs": [],
   "source": [
    "(start_value:stop_value:step_count)"
   ]
  },
  {
   "cell_type": "code",
   "execution_count": null,
   "id": "b7d00e4f",
   "metadata": {},
   "outputs": [],
   "source": []
  },
  {
   "cell_type": "code",
   "execution_count": null,
   "id": "c4237d0a",
   "metadata": {},
   "outputs": [],
   "source": [
    "Note: stop value will be always exclusive, to include we have to implement the index by +1"
   ]
  },
  {
   "cell_type": "code",
   "execution_count": null,
   "id": "6577c3c7",
   "metadata": {},
   "outputs": [],
   "source": []
  },
  {
   "cell_type": "code",
   "execution_count": 17,
   "id": "d7b18ddf",
   "metadata": {},
   "outputs": [],
   "source": [
    "students=['diksha','sonam','naveen','pradeep','abdul','nahid','afsha','muskan']"
   ]
  },
  {
   "cell_type": "code",
   "execution_count": 18,
   "id": "7d795539",
   "metadata": {},
   "outputs": [
    {
     "name": "stdout",
     "output_type": "stream",
     "text": [
      "['diksha', 'sonam', 'naveen', 'pradeep', 'abdul', 'nahid', 'afsha', 'muskan']\n"
     ]
    }
   ],
   "source": [
    "print(students)"
   ]
  },
  {
   "cell_type": "code",
   "execution_count": null,
   "id": "46caf237",
   "metadata": {},
   "outputs": [],
   "source": []
  },
  {
   "cell_type": "code",
   "execution_count": null,
   "id": "8b1d947a",
   "metadata": {},
   "outputs": [],
   "source": [
    "# get diksha and sonam name from the list"
   ]
  },
  {
   "cell_type": "code",
   "execution_count": null,
   "id": "4870d024",
   "metadata": {},
   "outputs": [],
   "source": []
  },
  {
   "cell_type": "code",
   "execution_count": 19,
   "id": "4cf6b214",
   "metadata": {},
   "outputs": [
    {
     "name": "stdout",
     "output_type": "stream",
     "text": [
      "['diksha']\n"
     ]
    }
   ],
   "source": [
    "print(students[0:1])"
   ]
  },
  {
   "cell_type": "code",
   "execution_count": null,
   "id": "ade38f0b",
   "metadata": {},
   "outputs": [],
   "source": [
    "Add + 1 to stop value"
   ]
  },
  {
   "cell_type": "code",
   "execution_count": 20,
   "id": "b9571de7",
   "metadata": {},
   "outputs": [
    {
     "name": "stdout",
     "output_type": "stream",
     "text": [
      "['diksha', 'sonam']\n"
     ]
    }
   ],
   "source": [
    "print(students[0:2])"
   ]
  },
  {
   "cell_type": "code",
   "execution_count": null,
   "id": "f82354aa",
   "metadata": {},
   "outputs": [],
   "source": []
  },
  {
   "cell_type": "code",
   "execution_count": null,
   "id": "39dac0e5",
   "metadata": {},
   "outputs": [],
   "source": [
    "# get naveen and pradeep name from the list"
   ]
  },
  {
   "cell_type": "code",
   "execution_count": null,
   "id": "b1d42591",
   "metadata": {},
   "outputs": [],
   "source": []
  },
  {
   "cell_type": "code",
   "execution_count": 21,
   "id": "74dfc989",
   "metadata": {},
   "outputs": [
    {
     "name": "stdout",
     "output_type": "stream",
     "text": [
      "['naveen', 'pradeep']\n"
     ]
    }
   ],
   "source": [
    "print(students[2:4])"
   ]
  },
  {
   "cell_type": "code",
   "execution_count": null,
   "id": "46e75907",
   "metadata": {},
   "outputs": [],
   "source": []
  },
  {
   "cell_type": "code",
   "execution_count": null,
   "id": "4d0d6552",
   "metadata": {},
   "outputs": [],
   "source": [
    "# Every 2 name should come"
   ]
  },
  {
   "cell_type": "code",
   "execution_count": 22,
   "id": "3cefd36f",
   "metadata": {},
   "outputs": [
    {
     "name": "stdout",
     "output_type": "stream",
     "text": [
      "['diksha', 'naveen', 'abdul', 'afsha']\n"
     ]
    }
   ],
   "source": [
    "print(students[0:9:2])"
   ]
  },
  {
   "cell_type": "code",
   "execution_count": null,
   "id": "21873516",
   "metadata": {},
   "outputs": [],
   "source": []
  },
  {
   "cell_type": "code",
   "execution_count": 26,
   "id": "2c96b1a6",
   "metadata": {},
   "outputs": [
    {
     "name": "stdout",
     "output_type": "stream",
     "text": [
      "['diksha', 'pradeep', 'afsha']\n"
     ]
    }
   ],
   "source": [
    "print(students[0:9:3])"
   ]
  },
  {
   "cell_type": "code",
   "execution_count": 27,
   "id": "f4861ebf",
   "metadata": {},
   "outputs": [
    {
     "name": "stdout",
     "output_type": "stream",
     "text": [
      "['diksha', 'abdul']\n"
     ]
    }
   ],
   "source": [
    "print(students[0:9:4])"
   ]
  },
  {
   "cell_type": "code",
   "execution_count": null,
   "id": "9358b64c",
   "metadata": {},
   "outputs": [],
   "source": []
  }
 ],
 "metadata": {
  "kernelspec": {
   "display_name": "Python 3 (ipykernel)",
   "language": "python",
   "name": "python3"
  },
  "language_info": {
   "codemirror_mode": {
    "name": "ipython",
    "version": 3
   },
   "file_extension": ".py",
   "mimetype": "text/x-python",
   "name": "python",
   "nbconvert_exporter": "python",
   "pygments_lexer": "ipython3",
   "version": "3.11.5"
  }
 },
 "nbformat": 4,
 "nbformat_minor": 5
}
