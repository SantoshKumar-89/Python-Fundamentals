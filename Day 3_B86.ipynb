{
 "cells": [
  {
   "cell_type": "code",
   "execution_count": null,
   "id": "563cf2bb",
   "metadata": {},
   "outputs": [],
   "source": [
    "Continuation with Strings:"
   ]
  },
  {
   "cell_type": "code",
   "execution_count": null,
   "id": "a6eb5caf",
   "metadata": {},
   "outputs": [],
   "source": []
  },
  {
   "cell_type": "code",
   "execution_count": null,
   "id": "53ce6e0f",
   "metadata": {},
   "outputs": [],
   "source": [
    "Understanding the concept of strings:"
   ]
  },
  {
   "cell_type": "code",
   "execution_count": null,
   "id": "e157c1ee",
   "metadata": {},
   "outputs": [],
   "source": [
    "# general syntax of f strings:"
   ]
  },
  {
   "cell_type": "code",
   "execution_count": null,
   "id": "c141c80a",
   "metadata": {},
   "outputs": [],
   "source": []
  },
  {
   "cell_type": "code",
   "execution_count": null,
   "id": "7dd0b75a",
   "metadata": {},
   "outputs": [],
   "source": [
    "f \"custom message {placeholder 1} {placeholder 2}.................{placeholder...N}"
   ]
  },
  {
   "cell_type": "code",
   "execution_count": 1,
   "id": "d09b0609",
   "metadata": {},
   "outputs": [],
   "source": [
    "firstname=\"pradeep\""
   ]
  },
  {
   "cell_type": "code",
   "execution_count": 2,
   "id": "b7005212",
   "metadata": {},
   "outputs": [],
   "source": [
    "lastname=\"kumar\""
   ]
  },
  {
   "cell_type": "code",
   "execution_count": null,
   "id": "11a6638e",
   "metadata": {},
   "outputs": [],
   "source": []
  },
  {
   "cell_type": "code",
   "execution_count": null,
   "id": "c21ba64a",
   "metadata": {},
   "outputs": [],
   "source": [
    "# req: i want to get full name..?"
   ]
  },
  {
   "cell_type": "code",
   "execution_count": 9,
   "id": "bde2cf96",
   "metadata": {},
   "outputs": [],
   "source": [
    "fullname=f\"{firstname} {lastname}\""
   ]
  },
  {
   "cell_type": "code",
   "execution_count": 10,
   "id": "2cad8608",
   "metadata": {},
   "outputs": [
    {
     "name": "stdout",
     "output_type": "stream",
     "text": [
      "pradeep kumar\n"
     ]
    }
   ],
   "source": [
    "print(fullname)"
   ]
  },
  {
   "cell_type": "code",
   "execution_count": null,
   "id": "06a4cac0",
   "metadata": {},
   "outputs": [],
   "source": []
  },
  {
   "cell_type": "code",
   "execution_count": null,
   "id": "21a1fc68",
   "metadata": {},
   "outputs": [],
   "source": [
    "Correct name format"
   ]
  },
  {
   "cell_type": "code",
   "execution_count": 11,
   "id": "37a6b8a4",
   "metadata": {},
   "outputs": [
    {
     "name": "stdout",
     "output_type": "stream",
     "text": [
      "Pradeep Kumar\n"
     ]
    }
   ],
   "source": [
    "print(fullname.title())"
   ]
  },
  {
   "cell_type": "code",
   "execution_count": null,
   "id": "63fa40bc",
   "metadata": {},
   "outputs": [],
   "source": []
  },
  {
   "cell_type": "code",
   "execution_count": 12,
   "id": "5fa1a0c3",
   "metadata": {},
   "outputs": [
    {
     "ename": "SyntaxError",
     "evalue": "unterminated string literal (detected at line 1) (1347689383.py, line 1)",
     "output_type": "error",
     "traceback": [
      "\u001b[1;36m  Cell \u001b[1;32mIn[12], line 1\u001b[1;36m\u001b[0m\n\u001b[1;33m    message=f\"keep up the good work,{fullname.title()}\u001b[0m\n\u001b[1;37m            ^\u001b[0m\n\u001b[1;31mSyntaxError\u001b[0m\u001b[1;31m:\u001b[0m unterminated string literal (detected at line 1)\n"
     ]
    }
   ],
   "source": [
    "message=f\"keep up the good work,{fullname.title()}"
   ]
  },
  {
   "cell_type": "code",
   "execution_count": 13,
   "id": "2d143ba6",
   "metadata": {},
   "outputs": [],
   "source": [
    "message=f\"keep up the good work,{fullname.title()}\""
   ]
  },
  {
   "cell_type": "code",
   "execution_count": 14,
   "id": "1fad18d7",
   "metadata": {},
   "outputs": [
    {
     "name": "stdout",
     "output_type": "stream",
     "text": [
      "keep up the good work,Pradeep Kumar\n"
     ]
    }
   ],
   "source": [
    "print(message)"
   ]
  },
  {
   "cell_type": "code",
   "execution_count": null,
   "id": "cd2eb573",
   "metadata": {},
   "outputs": [],
   "source": []
  },
  {
   "cell_type": "code",
   "execution_count": null,
   "id": "0c2970d3",
   "metadata": {},
   "outputs": [],
   "source": [
    "ADDING WHITE SPACES TO THE STRINGS:"
   ]
  },
  {
   "cell_type": "code",
   "execution_count": null,
   "id": "da36ac0e",
   "metadata": {},
   "outputs": [],
   "source": []
  },
  {
   "cell_type": "code",
   "execution_count": 15,
   "id": "a501f293",
   "metadata": {},
   "outputs": [
    {
     "name": "stdout",
     "output_type": "stream",
     "text": [
      "fav_prog_lang:pythonjavac++swiftc\n"
     ]
    }
   ],
   "source": [
    "print(\"fav_prog_lang:pythonjavac++swiftc\")"
   ]
  },
  {
   "cell_type": "code",
   "execution_count": null,
   "id": "86f3b683",
   "metadata": {},
   "outputs": [],
   "source": []
  },
  {
   "cell_type": "code",
   "execution_count": null,
   "id": "1957bc95",
   "metadata": {},
   "outputs": [],
   "source": [
    "# how to get in correct format and new line"
   ]
  },
  {
   "cell_type": "code",
   "execution_count": 17,
   "id": "872abdce",
   "metadata": {},
   "outputs": [
    {
     "name": "stdout",
     "output_type": "stream",
     "text": [
      "fav_prog_lang:\n",
      "python\n",
      "java\n",
      "c++\n",
      "swift\n",
      "c\n"
     ]
    }
   ],
   "source": [
    "print(\"fav_prog_lang:\\npython\\njava\\nc++\\nswift\\nc\")"
   ]
  },
  {
   "cell_type": "code",
   "execution_count": null,
   "id": "6b25cec8",
   "metadata": {},
   "outputs": [],
   "source": [
    "\\n ==========> is new line delimiter"
   ]
  },
  {
   "cell_type": "code",
   "execution_count": null,
   "id": "3c56a0c7",
   "metadata": {},
   "outputs": [],
   "source": []
  },
  {
   "cell_type": "code",
   "execution_count": null,
   "id": "e3c6bc19",
   "metadata": {},
   "outputs": [],
   "source": [
    "# how to get in  and tab space in new line separator"
   ]
  },
  {
   "cell_type": "code",
   "execution_count": 18,
   "id": "10d84b0b",
   "metadata": {},
   "outputs": [
    {
     "name": "stdout",
     "output_type": "stream",
     "text": [
      "fav_prog_lang:\n",
      "\tpython\n",
      "\tjava\n",
      "\tc++\n",
      "\tswift\n",
      "\tc\n"
     ]
    }
   ],
   "source": [
    "print(\"fav_prog_lang:\\n\\tpython\\n\\tjava\\n\\tc++\\n\\tswift\\n\\tc\")"
   ]
  },
  {
   "cell_type": "code",
   "execution_count": null,
   "id": "a6b158db",
   "metadata": {},
   "outputs": [],
   "source": [
    "\\t ==========> tab delimiter"
   ]
  },
  {
   "cell_type": "code",
   "execution_count": null,
   "id": "35855d81",
   "metadata": {},
   "outputs": [],
   "source": []
  },
  {
   "cell_type": "code",
   "execution_count": null,
   "id": "d992d721",
   "metadata": {},
   "outputs": [],
   "source": [
    "REMOVING WHITE SPACES FROM STRINGS:"
   ]
  },
  {
   "cell_type": "code",
   "execution_count": null,
   "id": "5101bca5",
   "metadata": {},
   "outputs": [],
   "source": []
  },
  {
   "cell_type": "code",
   "execution_count": 19,
   "id": "8f094849",
   "metadata": {},
   "outputs": [],
   "source": [
    "name=\" python\""
   ]
  },
  {
   "cell_type": "code",
   "execution_count": 20,
   "id": "a692e0c2",
   "metadata": {},
   "outputs": [
    {
     "name": "stdout",
     "output_type": "stream",
     "text": [
      " python\n"
     ]
    }
   ],
   "source": [
    "print(name)"
   ]
  },
  {
   "cell_type": "code",
   "execution_count": null,
   "id": "f79afec0",
   "metadata": {},
   "outputs": [],
   "source": []
  },
  {
   "cell_type": "code",
   "execution_count": 21,
   "id": "d5c65d8a",
   "metadata": {},
   "outputs": [],
   "source": [
    "name2=\"python \""
   ]
  },
  {
   "cell_type": "code",
   "execution_count": 22,
   "id": "f7eb748b",
   "metadata": {},
   "outputs": [
    {
     "name": "stdout",
     "output_type": "stream",
     "text": [
      "python \n"
     ]
    }
   ],
   "source": [
    "print(name2)"
   ]
  },
  {
   "cell_type": "code",
   "execution_count": null,
   "id": "344b9cbc",
   "metadata": {},
   "outputs": [],
   "source": []
  },
  {
   "cell_type": "code",
   "execution_count": 23,
   "id": "37596743",
   "metadata": {},
   "outputs": [],
   "source": [
    "name3=\" python \""
   ]
  },
  {
   "cell_type": "code",
   "execution_count": 24,
   "id": "4530b171",
   "metadata": {},
   "outputs": [
    {
     "name": "stdout",
     "output_type": "stream",
     "text": [
      " python \n"
     ]
    }
   ],
   "source": [
    "print(name3)"
   ]
  },
  {
   "cell_type": "code",
   "execution_count": null,
   "id": "f8ea3d8e",
   "metadata": {},
   "outputs": [],
   "source": []
  },
  {
   "cell_type": "code",
   "execution_count": null,
   "id": "b8a9424e",
   "metadata": {},
   "outputs": [],
   "source": [
    "Remove space from left"
   ]
  },
  {
   "cell_type": "code",
   "execution_count": 25,
   "id": "08375dae",
   "metadata": {},
   "outputs": [
    {
     "name": "stdout",
     "output_type": "stream",
     "text": [
      "python\n"
     ]
    }
   ],
   "source": [
    "print(name.lstrip())"
   ]
  },
  {
   "cell_type": "code",
   "execution_count": 26,
   "id": "23619616",
   "metadata": {},
   "outputs": [
    {
     "data": {
      "text/plain": [
       "'python'"
      ]
     },
     "execution_count": 26,
     "metadata": {},
     "output_type": "execute_result"
    }
   ],
   "source": [
    "name.lstrip()"
   ]
  },
  {
   "cell_type": "code",
   "execution_count": null,
   "id": "58c8888e",
   "metadata": {},
   "outputs": [],
   "source": []
  },
  {
   "cell_type": "code",
   "execution_count": null,
   "id": "1fa82069",
   "metadata": {},
   "outputs": [],
   "source": [
    "Remove space from right"
   ]
  },
  {
   "cell_type": "code",
   "execution_count": 28,
   "id": "b02ae248",
   "metadata": {},
   "outputs": [
    {
     "data": {
      "text/plain": [
       "'python'"
      ]
     },
     "execution_count": 28,
     "metadata": {},
     "output_type": "execute_result"
    }
   ],
   "source": [
    "name2.rstrip()"
   ]
  },
  {
   "cell_type": "code",
   "execution_count": null,
   "id": "e3054002",
   "metadata": {},
   "outputs": [],
   "source": []
  },
  {
   "cell_type": "code",
   "execution_count": null,
   "id": "c2ecaaca",
   "metadata": {},
   "outputs": [],
   "source": [
    "Remove spaces from both sides"
   ]
  },
  {
   "cell_type": "code",
   "execution_count": 29,
   "id": "e35cf0f5",
   "metadata": {},
   "outputs": [
    {
     "data": {
      "text/plain": [
       "'python'"
      ]
     },
     "execution_count": 29,
     "metadata": {},
     "output_type": "execute_result"
    }
   ],
   "source": [
    "name3.strip()"
   ]
  },
  {
   "cell_type": "code",
   "execution_count": null,
   "id": "ea4906b2",
   "metadata": {},
   "outputs": [],
   "source": []
  }
 ],
 "metadata": {
  "kernelspec": {
   "display_name": "Python 3 (ipykernel)",
   "language": "python",
   "name": "python3"
  },
  "language_info": {
   "codemirror_mode": {
    "name": "ipython",
    "version": 3
   },
   "file_extension": ".py",
   "mimetype": "text/x-python",
   "name": "python",
   "nbconvert_exporter": "python",
   "pygments_lexer": "ipython3",
   "version": "3.11.5"
  }
 },
 "nbformat": 4,
 "nbformat_minor": 5
}
